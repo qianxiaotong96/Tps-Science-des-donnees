{
 "cells": [
  {
   "cell_type": "markdown",
   "metadata": {},
   "source": [
    "<h1 style=\"text-align:center;background-color:#336699;color:white;\">TP5\n",
    "Descente de gradient</h1>\n",
    "<h3 style=\"color:#8080C0\">A. Descente de gradient</h3>\n",
    "<h4>1.Calculez l’expression analytique de la fonction E(x) = (x − 1)(x − 2)(x − 3)(x − 5)\n",
    "et sa dérivée.</h4>\n",
    "<p style=\"color:green\">E(x) = (x − 1)(x − 2)(x − 3)(x − 5)\n",
    "    <br/>= (x<sup>2</sup> - 3*x + 2)(x<sup>2</sup> - 8*x + 15)\n",
    "                       <br/>= x<sup>4</sup> - 8*x<sup>3</sup> + 15*x<sup>2</sup> - 3*x<sup>3</sup> + 24*x<sup>2</sup> - 45*x + 2*x<sup>2</sup> - 16*x + 30\n",
    "                       <br/>= x<sup>4</sup> - 11*x<sup>3</sup> + 41*x<sup>2</sup> - 61*x + 30\n",
    "                 <br/> Sa dérivée : E'(x) = 4*x<sup>3</sup> - 33*x<sup>2</sup> + 82*x -61 </p>"
   ]
  },
  {
   "cell_type": "markdown",
   "metadata": {},
   "source": [
    "<h4>2. Implémentez l’algorithme DG sous Python pour la fonction E(x).</h4>"
   ]
  },
  {
   "cell_type": "code",
   "execution_count": 1,
   "metadata": {},
   "outputs": [],
   "source": [
    "import numpy as np\n",
    "from scipy.misc import derivative\n",
    "#!/usr/bin/env python3\n",
    "# -*- coding: utf-8 -*-\n",
    "\"\"\"\n",
    "@author: QIAN Xiaotong\n",
    "@author: BIAN Yiping\n",
    "\"\"\"\n",
    "\n",
    "def E(x):\n",
    "    return (x-1)*(x-2)*(x-3)*(x-5);\n",
    "\n",
    "def DG(x0,eta,epsilon,nombre_max):\n",
    "    dic={}\n",
    "    i = 0\n",
    "    xi = x0\n",
    "    xi_1 = xi - eta*derivative(E,xi)\n",
    "    while((abs(xi_1 - xi) >= epsilon) & (i < nombre_max)):\n",
    "        xi = xi_1\n",
    "        xi_1 = xi - eta*derivative(E,xi) \n",
    "        i=i+1\n",
    "    dic['minimum'] = xi_1\n",
    "    dic['iteration'] = i\n",
    "    return dic"
   ]
  },
  {
   "cell_type": "markdown",
   "metadata": {},
   "source": [
    "<h4>3.Pour comprendre ce que fait effectivement la DG, testez l’algorithme implémenté en utilisant des exemples d’exécutions avec des valeurs initiales de x0 et η suivantes :\n",
    "    <h6>(a) x0 =5 et η=0.001 \n",
    "    <br/>(b) x0 =5 et η=0.01\n",
    "    <br/>(c) x0 =5 et η=0.1 \n",
    "    <br/>(d) x0 =5 et η=0.17\n",
    "    <br/>(e) x0 =5 et η=1\n",
    "    <br/>(f) x0 =0 et η=0.001</h6></h4>"
   ]
  },
  {
   "cell_type": "code",
   "execution_count": 2,
   "metadata": {},
   "outputs": [
    {
     "data": {
      "text/plain": [
       "{'minimum': 4.441918519633145, 'iteration': 30}"
      ]
     },
     "execution_count": 2,
     "metadata": {},
     "output_type": "execute_result"
    }
   ],
   "source": [
    "DG(5,0.001,0.01,1000)"
   ]
  },
  {
   "cell_type": "code",
   "execution_count": 3,
   "metadata": {},
   "outputs": [
    {
     "data": {
      "text/plain": [
       "{'minimum': 4.051313739254914, 'iteration': 13}"
      ]
     },
     "execution_count": 3,
     "metadata": {},
     "output_type": "execute_result"
    }
   ],
   "source": [
    "DG(5,0.01,0.01,1000)"
   ]
  },
  {
   "cell_type": "code",
   "execution_count": 4,
   "metadata": {},
   "outputs": [
    {
     "data": {
      "text/plain": [
       "{'minimum': 1.970713096889272, 'iteration': 6}"
      ]
     },
     "execution_count": 4,
     "metadata": {},
     "output_type": "execute_result"
    }
   ],
   "source": [
    "DG(5,0.1,0.01,1000)"
   ]
  },
  {
   "cell_type": "code",
   "execution_count": 5,
   "metadata": {},
   "outputs": [
    {
     "data": {
      "text/plain": [
       "{'minimum': 4.022931334248596, 'iteration': 9}"
      ]
     },
     "execution_count": 5,
     "metadata": {},
     "output_type": "execute_result"
    }
   ],
   "source": [
    "DG(5,0.017,0.01,1000)"
   ]
  },
  {
   "cell_type": "code",
   "execution_count": 6,
   "metadata": {},
   "outputs": [
    {
     "data": {
      "text/plain": [
       "{'minimum': 1.0047823756649958e+48, 'iteration': 4}"
      ]
     },
     "execution_count": 6,
     "metadata": {},
     "output_type": "execute_result"
    }
   ],
   "source": [
    "DG(5,1,0.01,1000)"
   ]
  },
  {
   "cell_type": "code",
   "execution_count": 7,
   "metadata": {},
   "outputs": [
    {
     "data": {
      "text/plain": [
       "{'minimum': 1.1895558059642402, 'iteration': 45}"
      ]
     },
     "execution_count": 7,
     "metadata": {},
     "output_type": "execute_result"
    }
   ],
   "source": [
    "DG(0,0.001,0.01,1000)"
   ]
  },
  {
   "cell_type": "markdown",
   "metadata": {},
   "source": [
    "<h4>4. Affichez le minimum trouvé,ainsi que E(xmin) et lenombre d’itérations. Que constatez-\n",
    "vous ?</h4>"
   ]
  },
  {
   "cell_type": "code",
   "execution_count": 8,
   "metadata": {},
   "outputs": [
    {
     "data": {
      "text/plain": [
       "-6.763478042464527"
      ]
     },
     "execution_count": 8,
     "metadata": {},
     "output_type": "execute_result"
    }
   ],
   "source": [
    "E(DG(5,0.001,0.01,1000)['minimum'])"
   ]
  },
  {
   "cell_type": "code",
   "execution_count": 9,
   "metadata": {},
   "outputs": [
    {
     "data": {
      "text/plain": [
       "-6.2427206928860475"
      ]
     },
     "execution_count": 9,
     "metadata": {},
     "output_type": "execute_result"
    }
   ],
   "source": [
    "E(DG(5,0.01,0.01,1000)['minimum'])"
   ]
  },
  {
   "cell_type": "code",
   "execution_count": 10,
   "metadata": {},
   "outputs": [
    {
     "data": {
      "text/plain": [
       "-0.0886423362134923"
      ]
     },
     "execution_count": 10,
     "metadata": {},
     "output_type": "execute_result"
    }
   ],
   "source": [
    "E(DG(5,0.1,0.01,1000)['minimum'])"
   ]
  },
  {
   "cell_type": "code",
   "execution_count": 11,
   "metadata": {},
   "outputs": [
    {
     "data": {
      "text/plain": [
       "-6.11196687251445"
      ]
     },
     "execution_count": 11,
     "metadata": {},
     "output_type": "execute_result"
    }
   ],
   "source": [
    "E(DG(5,0.017,0.01,1000)['minimum'])"
   ]
  },
  {
   "cell_type": "code",
   "execution_count": 12,
   "metadata": {},
   "outputs": [
    {
     "data": {
      "text/plain": [
       "1.0192671673981714e+192"
      ]
     },
     "execution_count": 12,
     "metadata": {},
     "output_type": "execute_result"
    }
   ],
   "source": [
    "E(DG(5,1,0.01,1000)['minimum'])"
   ]
  },
  {
   "cell_type": "code",
   "execution_count": 13,
   "metadata": {},
   "outputs": [
    {
     "data": {
      "text/plain": [
       "-1.0597927750528027"
      ]
     },
     "execution_count": 13,
     "metadata": {},
     "output_type": "execute_result"
    }
   ],
   "source": [
    "E(DG(0,0.001,0.01,1000)['minimum'])"
   ]
  },
  {
   "cell_type": "code",
   "execution_count": 14,
   "metadata": {},
   "outputs": [
    {
     "name": "stdout",
     "output_type": "stream",
     "text": [
      "le minimum trouvé est :  4.441918519633145  et E(Xmin) =  -6.763478042464527  et le nombre ditération est :  30\n"
     ]
    }
   ],
   "source": [
    "# Selon le resultat obetnu, la valeur de x qui minimise E(x) est donc:\n",
    "x = DG(5,0.001,0.01,1000)['minimum']\n",
    "fonc_E = E(x)\n",
    "iteration = DG(5,0.001,0.01,1000)['iteration']\n",
    "\n",
    "print('le minimum trouvé est : ',x,' et E(Xmin) = ', fonc_E ,' et le nombre d''itération est : ',iteration)"
   ]
  },
  {
   "cell_type": "markdown",
   "metadata": {},
   "source": [
    "<h4>\n",
    "5. Visualisez l’évolution des minimums de la fonction E(x) trouvés au cours des itérations.</h4>"
   ]
  },
  {
   "cell_type": "code",
   "execution_count": 15,
   "metadata": {},
   "outputs": [
    {
     "name": "stdout",
     "output_type": "stream",
     "text": [
      "range(0, 30)\n",
      "[ 0.         -0.76400825 -1.43561257 -2.02780204 -2.5514303  -3.01561824\n",
      " -3.42807131 -3.79533145 -4.12297855 -4.41579267 -4.67788541 -4.91280701\n",
      " -5.12363415 -5.31304222 -5.48336522 -5.63664556 -5.77467569 -5.89903303\n",
      " -6.0111094  -6.11213593 -6.20320419 -6.28528417 -6.35923971 -6.42584171\n",
      " -6.48577941 -6.53967028 -6.58806842 -6.63147193 -6.67032933 -6.70504509]\n"
     ]
    },
    {
     "data": {
      "image/png": "[encoded data removed]",
      "text/plain": [
       "<Figure size 432x288 with 1 Axes>"
      ]
     },
     "metadata": {
      "needs_background": "light"
     },
     "output_type": "display_data"
    }
   ],
   "source": [
    "import matplotlib.pyplot as plt\n",
    "\n",
    "x = np.zeros(iteration)\n",
    "list_E = np.zeros(iteration)\n",
    "x[0] = 5\n",
    "list_E[0] = E(x[0])\n",
    "for i in range(1,iteration):\n",
    "    x[i] = x[i-1] - 0.001*derivative(E,x[i-1])\n",
    "    list_E[i] = E(x[i])\n",
    "plt.plot(range(iteration),list_E)\n",
    "print(range(iteration))\n",
    "print(list_E)\n"
   ]
  },
  {
   "cell_type": "markdown",
   "metadata": {},
   "source": [
    "<h4>6. Testez votre algorithme avec d’autres valeurs de ε et nombremax.</h4>"
   ]
  },
  {
   "cell_type": "code",
   "execution_count": 16,
   "metadata": {},
   "outputs": [
    {
     "data": {
      "text/plain": [
       "{'minimum': 4.064775690466036, 'iteration': 142}"
      ]
     },
     "execution_count": 16,
     "metadata": {},
     "output_type": "execute_result"
    }
   ],
   "source": [
    "#Essayer avec epsilon = 0.001 et nombre_max = 1000\n",
    "DG(5,0.001,0.001,1000)"
   ]
  },
  {
   "cell_type": "code",
   "execution_count": 17,
   "metadata": {},
   "outputs": [
    {
     "data": {
      "text/plain": [
       "{'minimum': 4.441918519633145, 'iteration': 30}"
      ]
     },
     "execution_count": 17,
     "metadata": {},
     "output_type": "execute_result"
    }
   ],
   "source": [
    "#Essayer avec epsilon = 0.01 et nombre_max = 10000\n",
    "DG(5,0.001,0.01,10000)"
   ]
  },
  {
   "cell_type": "code",
   "execution_count": 18,
   "metadata": {},
   "outputs": [
    {
     "data": {
      "text/plain": [
       "{'minimum': 4.006949110043423, 'iteration': 296}"
      ]
     },
     "execution_count": 18,
     "metadata": {},
     "output_type": "execute_result"
    }
   ],
   "source": [
    "#Essayer avec epsilon = 0.0001 et nombre_max = 1000\n",
    "DG(5,0.001,0.0001,1000)"
   ]
  },
  {
   "cell_type": "code",
   "execution_count": 19,
   "metadata": {},
   "outputs": [
    {
     "data": {
      "text/plain": [
       "{'minimum': 4.064775690466036, 'iteration': 142}"
      ]
     },
     "execution_count": 19,
     "metadata": {},
     "output_type": "execute_result"
    }
   ],
   "source": [
    "#Essayer avec epsilon = 0.001 et nombre_max = 10000\n",
    "DG(5,0.001,0.001,1000)"
   ]
  },
  {
   "cell_type": "markdown",
   "metadata": {},
   "source": [
    "<h3 style=\"color:#8080C0\">B. Descente de gradient pour la régression linéaire</h3>\n",
    "<h4>1.Calculez les dérivées partielles de la fonction E(a,b) selon a et b.</h4>\n",
    "<p style=\"color:green\">∂E(a,b)/∂a = &sum; (2a*x<sub>i</sub><sup>2</sup> + 2*b*x<sub>i</sub> - 2*x<sub>i</sub>*y<sub>i</sub>) <br/>∂E(a,b)/∂b = &sum; (2b - 2*y<sub>i</sub> + 2*a*x<sub>i</sub>)</p>"
   ]
  },
  {
   "cell_type": "markdown",
   "metadata": {},
   "source": [
    "<h4>2. Implémentez l’algorithme DG sous Python pour la fonction E(a,b). </h4>"
   ]
  },
  {
   "cell_type": "code",
   "execution_count": 48,
   "metadata": {},
   "outputs": [],
   "source": [
    "def DG(eta,nombre_max):\n",
    "    dic={}\n",
    "    a, b = symbols('a b', real=True)\n",
    "    i = 0\n",
    "    ai = 0\n",
    "    bi = 0\n",
    "    forme = E(a,b)\n",
    "    a_ = diff(forme,a) #derive partielle de a\n",
    "    b_ = diff(forme,b) #derive partielle de b\n",
    "    ai_1 = ai - eta*(a_.subs({a:ai, b:bi}))\n",
    "    bi_1 = bi - eta*(b_.subs({a:ai, b:bi}))\n",
    "\n",
    "    while(((abs(ai_1 - ai) >= 0.01) | (abs(bi_1 - bi) >= 0.01)) & (i < nombre_max)):\n",
    "        ai = ai_1\n",
    "        bi = bi_1\n",
    "        ai_1 = ai - eta*(a_.subs({a:ai, b:bi}))\n",
    "        bi_1 = bi - eta*(b_.subs({a:ai, b:bi}))\n",
    "        i=i+1\n",
    "    \n",
    "    dic['minimum_a'] = ai_1\n",
    "    dic['minimum_b'] = bi_1\n",
    "    dic['iteration'] = i\n",
    "    dic['valeur_E'] = E(ai_1,bi_1)\n",
    "    return dic"
   ]
  },
  {
   "cell_type": "markdown",
   "metadata": {},
   "source": [
    "<h4>3.Importez la fonction datasets.make_regression et utilisez la pour générez un pro- blème de régression aléatoire de 100 example avec une seule variable. Appliquez l’algorithme implémenté au jeu de données généré avec les paramètres suivants :</h4>"
   ]
  },
  {
   "cell_type": "code",
   "execution_count": 49,
   "metadata": {},
   "outputs": [],
   "source": [
    "from sympy import symbols, diff\n",
    "from sklearn.datasets import make_regression\n",
    "\n",
    "X,Y = make_regression(n_samples=100, n_features=1)\n",
    "X = X.reshape(100,)\n",
    "def E(a, b):\n",
    "    sum = 0\n",
    "    for i in range(len(X)):\n",
    "        sum = sum + (a*X[i] + b - Y[i])**2\n",
    "    return sum"
   ]
  },
  {
   "cell_type": "code",
   "execution_count": 50,
   "metadata": {},
   "outputs": [
    {
     "data": {
      "text/plain": [
       "{'minimum_a': 61.3529756346120,\n",
       " 'minimum_b': -0.00648240031276149,\n",
       " 'iteration': 31,\n",
       " 'valeur_E': 0.118593300533658}"
      ]
     },
     "execution_count": 50,
     "metadata": {},
     "output_type": "execute_result"
    }
   ],
   "source": [
    "DG(0.001,100)"
   ]
  },
  {
   "cell_type": "code",
   "execution_count": 51,
   "metadata": {},
   "outputs": [
    {
     "data": {
      "text/plain": [
       "{'minimum_a': 61.3529756346120,\n",
       " 'minimum_b': -0.00648240031276149,\n",
       " 'iteration': 31,\n",
       " 'valeur_E': 0.118593300533658}"
      ]
     },
     "execution_count": 51,
     "metadata": {},
     "output_type": "execute_result"
    }
   ],
   "source": [
    "DG(0.001,500)"
   ]
  },
  {
   "cell_type": "code",
   "execution_count": 52,
   "metadata": {},
   "outputs": [
    {
     "data": {
      "text/plain": [
       "{'minimum_a': 61.3529756346120,\n",
       " 'minimum_b': -0.00648240031276149,\n",
       " 'iteration': 31,\n",
       " 'valeur_E': 0.118593300533658}"
      ]
     },
     "execution_count": 52,
     "metadata": {},
     "output_type": "execute_result"
    }
   ],
   "source": [
    "DG(0.001,1000)"
   ]
  },
  {
   "cell_type": "code",
   "execution_count": 53,
   "metadata": {},
   "outputs": [
    {
     "data": {
      "text/plain": [
       "{'minimum_a': 1.94879082897329e+48,\n",
       " 'minimum_b': -6.89398294660114e+47,\n",
       " 'iteration': 1000,\n",
       " 'valeur_E': 4.51454485448178e+98}"
      ]
     },
     "execution_count": 53,
     "metadata": {},
     "output_type": "execute_result"
    }
   ],
   "source": [
    "DG(0.01,1000)"
   ]
  },
  {
   "cell_type": "code",
   "execution_count": 54,
   "metadata": {},
   "outputs": [
    {
     "data": {
      "text/plain": [
       "{'minimum_a': 8.03386801059795e+2326,\n",
       " 'minimum_b': -2.84203662275475e+2326,\n",
       " 'iteration': 1000,\n",
       " 'valeur_E': 7.67242943392890e+4655}"
      ]
     },
     "execution_count": 54,
     "metadata": {},
     "output_type": "execute_result"
    }
   ],
   "source": [
    "DG(1,1000)"
   ]
  },
  {
   "cell_type": "markdown",
   "metadata": {},
   "source": [
    "<h4>4. Affichez les coefficients trouvés, ainsi que la valeur de E(amin,bmin) et le nombre\n",
    "d’itérations. Que constatez-vous ?</h4>\n",
    "<p style=\"color:green\">Selon le résultat obtenu par rapport à DG(0.001,100), DG(0.001,500), DG(0.001,1000), le coefficient trouve est a = 61.3529756346120, b = -0.00648240031276149 et nombre d'itération : 31 et E(a<sub>min</sub>,b<sub>min</sub>) = 0.118593300533658. Remaraque: Si η est trop grand, les valeurs de a et b ont fluctué de haut en bas par rapport à la valeur idéale et ne peuvent pas s'approcher de la valeur idéale.</p>\n",
    "<h4>5. Importez la fonction stats.linregress de scipy. Utilisez cette fonction pour résoudre le même problème. Comparez les résultats obtenus. Que constatez-vous ?</h4>"
   ]
  },
  {
   "cell_type": "code",
   "execution_count": 57,
   "metadata": {},
   "outputs": [],
   "source": [
    "from scipy import stats\n",
    "a,b, r_value, p_value, std_err= stats.linregress(X, Y)"
   ]
  },
  {
   "cell_type": "code",
   "execution_count": 58,
   "metadata": {},
   "outputs": [
    {
     "data": {
      "text/plain": [
       "61.386114791489824"
      ]
     },
     "execution_count": 58,
     "metadata": {},
     "output_type": "execute_result"
    }
   ],
   "source": [
    "a # valeur de a"
   ]
  },
  {
   "cell_type": "code",
   "execution_count": 59,
   "metadata": {},
   "outputs": [
    {
     "data": {
      "text/plain": [
       "6.661338147750939e-16"
      ]
     },
     "execution_count": 59,
     "metadata": {},
     "output_type": "execute_result"
    }
   ],
   "source": [
    "b # valeur de b"
   ]
  },
  {
   "cell_type": "code",
   "execution_count": 60,
   "metadata": {},
   "outputs": [
    {
     "data": {
      "text/plain": [
       "1.0"
      ]
     },
     "execution_count": 60,
     "metadata": {},
     "output_type": "execute_result"
    }
   ],
   "source": [
    "r_value # coefficient de la correlation"
   ]
  },
  {
   "cell_type": "markdown",
   "metadata": {},
   "source": [
    "<p style=\"color:green\"> Comparer avec le DG qu'on a fait, on obtient presque la même valeur de a et b.</p>\n",
    "<h4>6. Visualisez le jeu de données généré avec les fonctions approximatives obtenues en utilisant les deux méthodes.</h4>"
   ]
  },
  {
   "cell_type": "code",
   "execution_count": 65,
   "metadata": {},
   "outputs": [
    {
     "data": {
      "image/png": "[encoded data removed]",
      "text/plain": [
       "<Figure size 1080x360 with 2 Axes>"
      ]
     },
     "metadata": {
      "needs_background": "light"
     },
     "output_type": "display_data"
    }
   ],
   "source": [
    "plt.figure(figsize=(15,5))\n",
    "plt.subplot(121)\n",
    "plt.title('Avec la méthode stats.linregress')\n",
    "plt.plot(X, Y, 'o', label='valeur original')\n",
    "plt.plot(X, a*X+b, 'r', label='valeur predict')\n",
    "plt.legend()\n",
    "\n",
    "plt.subplot(122)\n",
    "plt.title('Avec la méthode DG')\n",
    "plt.plot(X, Y, 'o', label='valeur original')\n",
    "plt.plot(X, DG(0.001,100)['minimum_a']*X+DG(0.001,100)['minimum_b'], 'r', label='valeur predict')\n",
    "plt.legend()\n",
    "\n",
    "plt.show()"
   ]
  },
  {
   "cell_type": "markdown",
   "metadata": {},
   "source": [
    "<p style=\"color:green\">cela montre encore une fois on obtient la même chose par rapport à ces deux méthodes</p>"
   ]
  },
  {
   "cell_type": "code",
   "execution_count": null,
   "metadata": {},
   "outputs": [],
   "source": []
  }
 ],
 "metadata": {
  "kernelspec": {
   "display_name": "Python 3",
   "language": "python",
   "name": "python3"
  },
  "language_info": {
   "codemirror_mode": {
    "name": "ipython",
    "version": 3
   },
   "file_extension": ".py",
   "mimetype": "text/x-python",
   "name": "python",
   "nbconvert_exporter": "python",
   "pygments_lexer": "ipython3",
   "version": "3.7.6"
  }
 },
 "nbformat": 4,
 "nbformat_minor": 4
}
