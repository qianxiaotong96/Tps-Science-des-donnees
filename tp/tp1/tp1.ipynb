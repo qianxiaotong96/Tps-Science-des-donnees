{
 "cells": [
  {
   "cell_type": "markdown",
   "metadata": {},
   "source": [
    "<h1 style=\"text-align:center;background-color:#336699;color:white;\">TP1\n",
    "Introduction au module scikit-learn</h1>\n",
    "<h3 style=\"color:#8080C0\">A. Importation des libraires</h3>\n",
    "<h4>1- Importez scikit-learn :\n",
    "Dans Python, la plupart des fonctions sont incluses dans des librairies, qu’il faut importer pour pourvoir les utiliser. Par exemple pour importer scikit-learn il faut écrire :\n",
    "from sklearn import *</h4>"
   ]
  },
  {
   "cell_type": "code",
   "execution_count": 1,
   "metadata": {},
   "outputs": [],
   "source": [
    "#!/usr/bin/env python3\n",
    "# -*- coding: utf-8 -*-\n",
    "\"\"\"\n",
    "@author: QIAN Xiaotong\n",
    "@author: BIAN Yiping\n",
    "\"\"\"\n",
    "from sklearn import *"
   ]
  },
  {
   "cell_type": "markdown",
   "metadata": {},
   "source": [
    "<h4>2- Importez les librairies numpy (calcul scientifique) et matplotlib.pyplot (figures).</h4>"
   ]
  },
  {
   "cell_type": "code",
   "execution_count": 2,
   "metadata": {},
   "outputs": [],
   "source": [
    "import numpy as np\n",
    "import matplotlib.pyplot as plt"
   ]
  },
  {
   "cell_type": "markdown",
   "metadata": {},
   "source": [
    "<h3 style=\"color:#8080C0\">B. Manipulation d’un jeu de données</h3>\n",
    "<h4>1- Chargez les données Iris avec la commande :\n",
    "iris = datasets.load_iris()\n",
    "La variable iris est un objet qui contient la matrice des données (iris.data), un vecteur de numéro de classe (target), ainsi que les noms des variables (feature_names) et le nom des classes (target_names).</h4>"
   ]
  },
  {
   "cell_type": "code",
   "execution_count": 3,
   "metadata": {},
   "outputs": [],
   "source": [
    "iris = datasets.load_iris()"
   ]
  },
  {
   "cell_type": "markdown",
   "metadata": {},
   "source": [
    "<h4>2- Affichez les données, les noms des variables et le nom des classes (utilisez print).</h4>"
   ]
  },
  {
   "cell_type": "code",
   "execution_count": 4,
   "metadata": {},
   "outputs": [
    {
     "name": "stdout",
     "output_type": "stream",
     "text": [
      "les données :  [[5.1 3.5 1.4 0.2]\n",
      " [4.9 3.  1.4 0.2]\n",
      " [4.7 3.2 1.3 0.2]\n",
      " [4.6 3.1 1.5 0.2]\n",
      " [5.  3.6 1.4 0.2]\n",
      " [5.4 3.9 1.7 0.4]\n",
      " [4.6 3.4 1.4 0.3]\n",
      " [5.  3.4 1.5 0.2]\n",
      " [4.4 2.9 1.4 0.2]\n",
      " [4.9 3.1 1.5 0.1]\n",
      " [5.4 3.7 1.5 0.2]\n",
      " [4.8 3.4 1.6 0.2]\n",
      " [4.8 3.  1.4 0.1]\n",
      " [4.3 3.  1.1 0.1]\n",
      " [5.8 4.  1.2 0.2]\n",
      " [5.7 4.4 1.5 0.4]\n",
      " [5.4 3.9 1.3 0.4]\n",
      " [5.1 3.5 1.4 0.3]\n",
      " [5.7 3.8 1.7 0.3]\n",
      " [5.1 3.8 1.5 0.3]\n",
      " [5.4 3.4 1.7 0.2]\n",
      " [5.1 3.7 1.5 0.4]\n",
      " [4.6 3.6 1.  0.2]\n",
      " [5.1 3.3 1.7 0.5]\n",
      " [4.8 3.4 1.9 0.2]\n",
      " [5.  3.  1.6 0.2]\n",
      " [5.  3.4 1.6 0.4]\n",
      " [5.2 3.5 1.5 0.2]\n",
      " [5.2 3.4 1.4 0.2]\n",
      " [4.7 3.2 1.6 0.2]\n",
      " [4.8 3.1 1.6 0.2]\n",
      " [5.4 3.4 1.5 0.4]\n",
      " [5.2 4.1 1.5 0.1]\n",
      " [5.5 4.2 1.4 0.2]\n",
      " [4.9 3.1 1.5 0.2]\n",
      " [5.  3.2 1.2 0.2]\n",
      " [5.5 3.5 1.3 0.2]\n",
      " [4.9 3.6 1.4 0.1]\n",
      " [4.4 3.  1.3 0.2]\n",
      " [5.1 3.4 1.5 0.2]\n",
      " [5.  3.5 1.3 0.3]\n",
      " [4.5 2.3 1.3 0.3]\n",
      " [4.4 3.2 1.3 0.2]\n",
      " [5.  3.5 1.6 0.6]\n",
      " [5.1 3.8 1.9 0.4]\n",
      " [4.8 3.  1.4 0.3]\n",
      " [5.1 3.8 1.6 0.2]\n",
      " [4.6 3.2 1.4 0.2]\n",
      " [5.3 3.7 1.5 0.2]\n",
      " [5.  3.3 1.4 0.2]\n",
      " [7.  3.2 4.7 1.4]\n",
      " [6.4 3.2 4.5 1.5]\n",
      " [6.9 3.1 4.9 1.5]\n",
      " [5.5 2.3 4.  1.3]\n",
      " [6.5 2.8 4.6 1.5]\n",
      " [5.7 2.8 4.5 1.3]\n",
      " [6.3 3.3 4.7 1.6]\n",
      " [4.9 2.4 3.3 1. ]\n",
      " [6.6 2.9 4.6 1.3]\n",
      " [5.2 2.7 3.9 1.4]\n",
      " [5.  2.  3.5 1. ]\n",
      " [5.9 3.  4.2 1.5]\n",
      " [6.  2.2 4.  1. ]\n",
      " [6.1 2.9 4.7 1.4]\n",
      " [5.6 2.9 3.6 1.3]\n",
      " [6.7 3.1 4.4 1.4]\n",
      " [5.6 3.  4.5 1.5]\n",
      " [5.8 2.7 4.1 1. ]\n",
      " [6.2 2.2 4.5 1.5]\n",
      " [5.6 2.5 3.9 1.1]\n",
      " [5.9 3.2 4.8 1.8]\n",
      " [6.1 2.8 4.  1.3]\n",
      " [6.3 2.5 4.9 1.5]\n",
      " [6.1 2.8 4.7 1.2]\n",
      " [6.4 2.9 4.3 1.3]\n",
      " [6.6 3.  4.4 1.4]\n",
      " [6.8 2.8 4.8 1.4]\n",
      " [6.7 3.  5.  1.7]\n",
      " [6.  2.9 4.5 1.5]\n",
      " [5.7 2.6 3.5 1. ]\n",
      " [5.5 2.4 3.8 1.1]\n",
      " [5.5 2.4 3.7 1. ]\n",
      " [5.8 2.7 3.9 1.2]\n",
      " [6.  2.7 5.1 1.6]\n",
      " [5.4 3.  4.5 1.5]\n",
      " [6.  3.4 4.5 1.6]\n",
      " [6.7 3.1 4.7 1.5]\n",
      " [6.3 2.3 4.4 1.3]\n",
      " [5.6 3.  4.1 1.3]\n",
      " [5.5 2.5 4.  1.3]\n",
      " [5.5 2.6 4.4 1.2]\n",
      " [6.1 3.  4.6 1.4]\n",
      " [5.8 2.6 4.  1.2]\n",
      " [5.  2.3 3.3 1. ]\n",
      " [5.6 2.7 4.2 1.3]\n",
      " [5.7 3.  4.2 1.2]\n",
      " [5.7 2.9 4.2 1.3]\n",
      " [6.2 2.9 4.3 1.3]\n",
      " [5.1 2.5 3.  1.1]\n",
      " [5.7 2.8 4.1 1.3]\n",
      " [6.3 3.3 6.  2.5]\n",
      " [5.8 2.7 5.1 1.9]\n",
      " [7.1 3.  5.9 2.1]\n",
      " [6.3 2.9 5.6 1.8]\n",
      " [6.5 3.  5.8 2.2]\n",
      " [7.6 3.  6.6 2.1]\n",
      " [4.9 2.5 4.5 1.7]\n",
      " [7.3 2.9 6.3 1.8]\n",
      " [6.7 2.5 5.8 1.8]\n",
      " [7.2 3.6 6.1 2.5]\n",
      " [6.5 3.2 5.1 2. ]\n",
      " [6.4 2.7 5.3 1.9]\n",
      " [6.8 3.  5.5 2.1]\n",
      " [5.7 2.5 5.  2. ]\n",
      " [5.8 2.8 5.1 2.4]\n",
      " [6.4 3.2 5.3 2.3]\n",
      " [6.5 3.  5.5 1.8]\n",
      " [7.7 3.8 6.7 2.2]\n",
      " [7.7 2.6 6.9 2.3]\n",
      " [6.  2.2 5.  1.5]\n",
      " [6.9 3.2 5.7 2.3]\n",
      " [5.6 2.8 4.9 2. ]\n",
      " [7.7 2.8 6.7 2. ]\n",
      " [6.3 2.7 4.9 1.8]\n",
      " [6.7 3.3 5.7 2.1]\n",
      " [7.2 3.2 6.  1.8]\n",
      " [6.2 2.8 4.8 1.8]\n",
      " [6.1 3.  4.9 1.8]\n",
      " [6.4 2.8 5.6 2.1]\n",
      " [7.2 3.  5.8 1.6]\n",
      " [7.4 2.8 6.1 1.9]\n",
      " [7.9 3.8 6.4 2. ]\n",
      " [6.4 2.8 5.6 2.2]\n",
      " [6.3 2.8 5.1 1.5]\n",
      " [6.1 2.6 5.6 1.4]\n",
      " [7.7 3.  6.1 2.3]\n",
      " [6.3 3.4 5.6 2.4]\n",
      " [6.4 3.1 5.5 1.8]\n",
      " [6.  3.  4.8 1.8]\n",
      " [6.9 3.1 5.4 2.1]\n",
      " [6.7 3.1 5.6 2.4]\n",
      " [6.9 3.1 5.1 2.3]\n",
      " [5.8 2.7 5.1 1.9]\n",
      " [6.8 3.2 5.9 2.3]\n",
      " [6.7 3.3 5.7 2.5]\n",
      " [6.7 3.  5.2 2.3]\n",
      " [6.3 2.5 5.  1.9]\n",
      " [6.5 3.  5.2 2. ]\n",
      " [6.2 3.4 5.4 2.3]\n",
      " [5.9 3.  5.1 1.8]]\n",
      "les noms des variable :  ['sepal length (cm)', 'sepal width (cm)', 'petal length (cm)', 'petal width (cm)']\n",
      "les noms de classe ['setosa' 'versicolor' 'virginica']\n"
     ]
    }
   ],
   "source": [
    "print(\"les données : \",iris.data) \n",
    "#print(\"un vecteur de numéro de class : \",iris.target) \n",
    "print(\"les noms des variable : \",iris.feature_names) \n",
    "print(\"les noms de classe\",iris.target_names) "
   ]
  },
  {
   "cell_type": "markdown",
   "metadata": {},
   "source": [
    "<h4>3- Affichez le nom des classes pour chaque donnée</h4>"
   ]
  },
  {
   "cell_type": "code",
   "execution_count": 5,
   "metadata": {},
   "outputs": [
    {
     "name": "stdout",
     "output_type": "stream",
     "text": [
      "la donnée numéro  0  :  [5.1 3.5 1.4 0.2] , setosa\n",
      "la donnée numéro  1  :  [4.9 3.  1.4 0.2] , setosa\n",
      "la donnée numéro  2  :  [4.7 3.2 1.3 0.2] , setosa\n",
      "la donnée numéro  3  :  [4.6 3.1 1.5 0.2] , setosa\n",
      "la donnée numéro  4  :  [5.  3.6 1.4 0.2] , setosa\n",
      "la donnée numéro  5  :  [5.4 3.9 1.7 0.4] , setosa\n",
      "la donnée numéro  6  :  [4.6 3.4 1.4 0.3] , setosa\n",
      "la donnée numéro  7  :  [5.  3.4 1.5 0.2] , setosa\n",
      "la donnée numéro  8  :  [4.4 2.9 1.4 0.2] , setosa\n",
      "la donnée numéro  9  :  [4.9 3.1 1.5 0.1] , setosa\n",
      "la donnée numéro  10  :  [5.4 3.7 1.5 0.2] , setosa\n",
      "la donnée numéro  11  :  [4.8 3.4 1.6 0.2] , setosa\n",
      "la donnée numéro  12  :  [4.8 3.  1.4 0.1] , setosa\n",
      "la donnée numéro  13  :  [4.3 3.  1.1 0.1] , setosa\n",
      "la donnée numéro  14  :  [5.8 4.  1.2 0.2] , setosa\n",
      "la donnée numéro  15  :  [5.7 4.4 1.5 0.4] , setosa\n",
      "la donnée numéro  16  :  [5.4 3.9 1.3 0.4] , setosa\n",
      "la donnée numéro  17  :  [5.1 3.5 1.4 0.3] , setosa\n",
      "la donnée numéro  18  :  [5.7 3.8 1.7 0.3] , setosa\n",
      "la donnée numéro  19  :  [5.1 3.8 1.5 0.3] , setosa\n",
      "la donnée numéro  20  :  [5.4 3.4 1.7 0.2] , setosa\n",
      "la donnée numéro  21  :  [5.1 3.7 1.5 0.4] , setosa\n",
      "la donnée numéro  22  :  [4.6 3.6 1.  0.2] , setosa\n",
      "la donnée numéro  23  :  [5.1 3.3 1.7 0.5] , setosa\n",
      "la donnée numéro  24  :  [4.8 3.4 1.9 0.2] , setosa\n",
      "la donnée numéro  25  :  [5.  3.  1.6 0.2] , setosa\n",
      "la donnée numéro  26  :  [5.  3.4 1.6 0.4] , setosa\n",
      "la donnée numéro  27  :  [5.2 3.5 1.5 0.2] , setosa\n",
      "la donnée numéro  28  :  [5.2 3.4 1.4 0.2] , setosa\n",
      "la donnée numéro  29  :  [4.7 3.2 1.6 0.2] , setosa\n",
      "la donnée numéro  30  :  [4.8 3.1 1.6 0.2] , setosa\n",
      "la donnée numéro  31  :  [5.4 3.4 1.5 0.4] , setosa\n",
      "la donnée numéro  32  :  [5.2 4.1 1.5 0.1] , setosa\n",
      "la donnée numéro  33  :  [5.5 4.2 1.4 0.2] , setosa\n",
      "la donnée numéro  34  :  [4.9 3.1 1.5 0.2] , setosa\n",
      "la donnée numéro  35  :  [5.  3.2 1.2 0.2] , setosa\n",
      "la donnée numéro  36  :  [5.5 3.5 1.3 0.2] , setosa\n",
      "la donnée numéro  37  :  [4.9 3.6 1.4 0.1] , setosa\n",
      "la donnée numéro  38  :  [4.4 3.  1.3 0.2] , setosa\n",
      "la donnée numéro  39  :  [5.1 3.4 1.5 0.2] , setosa\n",
      "la donnée numéro  40  :  [5.  3.5 1.3 0.3] , setosa\n",
      "la donnée numéro  41  :  [4.5 2.3 1.3 0.3] , setosa\n",
      "la donnée numéro  42  :  [4.4 3.2 1.3 0.2] , setosa\n",
      "la donnée numéro  43  :  [5.  3.5 1.6 0.6] , setosa\n",
      "la donnée numéro  44  :  [5.1 3.8 1.9 0.4] , setosa\n",
      "la donnée numéro  45  :  [4.8 3.  1.4 0.3] , setosa\n",
      "la donnée numéro  46  :  [5.1 3.8 1.6 0.2] , setosa\n",
      "la donnée numéro  47  :  [4.6 3.2 1.4 0.2] , setosa\n",
      "la donnée numéro  48  :  [5.3 3.7 1.5 0.2] , setosa\n",
      "la donnée numéro  49  :  [5.  3.3 1.4 0.2] , setosa\n",
      "la donnée numéro  50  :  [7.  3.2 4.7 1.4] , versicolor\n",
      "la donnée numéro  51  :  [6.4 3.2 4.5 1.5] , versicolor\n",
      "la donnée numéro  52  :  [6.9 3.1 4.9 1.5] , versicolor\n",
      "la donnée numéro  53  :  [5.5 2.3 4.  1.3] , versicolor\n",
      "la donnée numéro  54  :  [6.5 2.8 4.6 1.5] , versicolor\n",
      "la donnée numéro  55  :  [5.7 2.8 4.5 1.3] , versicolor\n",
      "la donnée numéro  56  :  [6.3 3.3 4.7 1.6] , versicolor\n",
      "la donnée numéro  57  :  [4.9 2.4 3.3 1. ] , versicolor\n",
      "la donnée numéro  58  :  [6.6 2.9 4.6 1.3] , versicolor\n",
      "la donnée numéro  59  :  [5.2 2.7 3.9 1.4] , versicolor\n",
      "la donnée numéro  60  :  [5.  2.  3.5 1. ] , versicolor\n",
      "la donnée numéro  61  :  [5.9 3.  4.2 1.5] , versicolor\n",
      "la donnée numéro  62  :  [6.  2.2 4.  1. ] , versicolor\n",
      "la donnée numéro  63  :  [6.1 2.9 4.7 1.4] , versicolor\n",
      "la donnée numéro  64  :  [5.6 2.9 3.6 1.3] , versicolor\n",
      "la donnée numéro  65  :  [6.7 3.1 4.4 1.4] , versicolor\n",
      "la donnée numéro  66  :  [5.6 3.  4.5 1.5] , versicolor\n",
      "la donnée numéro  67  :  [5.8 2.7 4.1 1. ] , versicolor\n",
      "la donnée numéro  68  :  [6.2 2.2 4.5 1.5] , versicolor\n",
      "la donnée numéro  69  :  [5.6 2.5 3.9 1.1] , versicolor\n",
      "la donnée numéro  70  :  [5.9 3.2 4.8 1.8] , versicolor\n",
      "la donnée numéro  71  :  [6.1 2.8 4.  1.3] , versicolor\n",
      "la donnée numéro  72  :  [6.3 2.5 4.9 1.5] , versicolor\n",
      "la donnée numéro  73  :  [6.1 2.8 4.7 1.2] , versicolor\n",
      "la donnée numéro  74  :  [6.4 2.9 4.3 1.3] , versicolor\n",
      "la donnée numéro  75  :  [6.6 3.  4.4 1.4] , versicolor\n",
      "la donnée numéro  76  :  [6.8 2.8 4.8 1.4] , versicolor\n",
      "la donnée numéro  77  :  [6.7 3.  5.  1.7] , versicolor\n",
      "la donnée numéro  78  :  [6.  2.9 4.5 1.5] , versicolor\n",
      "la donnée numéro  79  :  [5.7 2.6 3.5 1. ] , versicolor\n",
      "la donnée numéro  80  :  [5.5 2.4 3.8 1.1] , versicolor\n",
      "la donnée numéro  81  :  [5.5 2.4 3.7 1. ] , versicolor\n",
      "la donnée numéro  82  :  [5.8 2.7 3.9 1.2] , versicolor\n",
      "la donnée numéro  83  :  [6.  2.7 5.1 1.6] , versicolor\n",
      "la donnée numéro  84  :  [5.4 3.  4.5 1.5] , versicolor\n",
      "la donnée numéro  85  :  [6.  3.4 4.5 1.6] , versicolor\n",
      "la donnée numéro  86  :  [6.7 3.1 4.7 1.5] , versicolor\n",
      "la donnée numéro  87  :  [6.3 2.3 4.4 1.3] , versicolor\n",
      "la donnée numéro  88  :  [5.6 3.  4.1 1.3] , versicolor\n",
      "la donnée numéro  89  :  [5.5 2.5 4.  1.3] , versicolor\n",
      "la donnée numéro  90  :  [5.5 2.6 4.4 1.2] , versicolor\n",
      "la donnée numéro  91  :  [6.1 3.  4.6 1.4] , versicolor\n",
      "la donnée numéro  92  :  [5.8 2.6 4.  1.2] , versicolor\n",
      "la donnée numéro  93  :  [5.  2.3 3.3 1. ] , versicolor\n",
      "la donnée numéro  94  :  [5.6 2.7 4.2 1.3] , versicolor\n",
      "la donnée numéro  95  :  [5.7 3.  4.2 1.2] , versicolor\n",
      "la donnée numéro  96  :  [5.7 2.9 4.2 1.3] , versicolor\n",
      "la donnée numéro  97  :  [6.2 2.9 4.3 1.3] , versicolor\n",
      "la donnée numéro  98  :  [5.1 2.5 3.  1.1] , versicolor\n",
      "la donnée numéro  99  :  [5.7 2.8 4.1 1.3] , versicolor\n",
      "la donnée numéro  100  :  [6.3 3.3 6.  2.5] , virginica\n",
      "la donnée numéro  101  :  [5.8 2.7 5.1 1.9] , virginica\n",
      "la donnée numéro  102  :  [7.1 3.  5.9 2.1] , virginica\n",
      "la donnée numéro  103  :  [6.3 2.9 5.6 1.8] , virginica\n",
      "la donnée numéro  104  :  [6.5 3.  5.8 2.2] , virginica\n",
      "la donnée numéro  105  :  [7.6 3.  6.6 2.1] , virginica\n",
      "la donnée numéro  106  :  [4.9 2.5 4.5 1.7] , virginica\n",
      "la donnée numéro  107  :  [7.3 2.9 6.3 1.8] , virginica\n",
      "la donnée numéro  108  :  [6.7 2.5 5.8 1.8] , virginica\n",
      "la donnée numéro  109  :  [7.2 3.6 6.1 2.5] , virginica\n",
      "la donnée numéro  110  :  [6.5 3.2 5.1 2. ] , virginica\n",
      "la donnée numéro  111  :  [6.4 2.7 5.3 1.9] , virginica\n",
      "la donnée numéro  112  :  [6.8 3.  5.5 2.1] , virginica\n",
      "la donnée numéro  113  :  [5.7 2.5 5.  2. ] , virginica\n",
      "la donnée numéro  114  :  [5.8 2.8 5.1 2.4] , virginica\n",
      "la donnée numéro  115  :  [6.4 3.2 5.3 2.3] , virginica\n",
      "la donnée numéro  116  :  [6.5 3.  5.5 1.8] , virginica\n",
      "la donnée numéro  117  :  [7.7 3.8 6.7 2.2] , virginica\n",
      "la donnée numéro  118  :  [7.7 2.6 6.9 2.3] , virginica\n",
      "la donnée numéro  119  :  [6.  2.2 5.  1.5] , virginica\n",
      "la donnée numéro  120  :  [6.9 3.2 5.7 2.3] , virginica\n",
      "la donnée numéro  121  :  [5.6 2.8 4.9 2. ] , virginica\n",
      "la donnée numéro  122  :  [7.7 2.8 6.7 2. ] , virginica\n",
      "la donnée numéro  123  :  [6.3 2.7 4.9 1.8] , virginica\n",
      "la donnée numéro  124  :  [6.7 3.3 5.7 2.1] , virginica\n",
      "la donnée numéro  125  :  [7.2 3.2 6.  1.8] , virginica\n",
      "la donnée numéro  126  :  [6.2 2.8 4.8 1.8] , virginica\n",
      "la donnée numéro  127  :  [6.1 3.  4.9 1.8] , virginica\n",
      "la donnée numéro  128  :  [6.4 2.8 5.6 2.1] , virginica\n",
      "la donnée numéro  129  :  [7.2 3.  5.8 1.6] , virginica\n",
      "la donnée numéro  130  :  [7.4 2.8 6.1 1.9] , virginica\n",
      "la donnée numéro  131  :  [7.9 3.8 6.4 2. ] , virginica\n",
      "la donnée numéro  132  :  [6.4 2.8 5.6 2.2] , virginica\n",
      "la donnée numéro  133  :  [6.3 2.8 5.1 1.5] , virginica\n",
      "la donnée numéro  134  :  [6.1 2.6 5.6 1.4] , virginica\n",
      "la donnée numéro  135  :  [7.7 3.  6.1 2.3] , virginica\n",
      "la donnée numéro  136  :  [6.3 3.4 5.6 2.4] , virginica\n",
      "la donnée numéro  137  :  [6.4 3.1 5.5 1.8] , virginica\n",
      "la donnée numéro  138  :  [6.  3.  4.8 1.8] , virginica\n",
      "la donnée numéro  139  :  [6.9 3.1 5.4 2.1] , virginica\n",
      "la donnée numéro  140  :  [6.7 3.1 5.6 2.4] , virginica\n",
      "la donnée numéro  141  :  [6.9 3.1 5.1 2.3] , virginica\n",
      "la donnée numéro  142  :  [5.8 2.7 5.1 1.9] , virginica\n",
      "la donnée numéro  143  :  [6.8 3.2 5.9 2.3] , virginica\n",
      "la donnée numéro  144  :  [6.7 3.3 5.7 2.5] , virginica\n",
      "la donnée numéro  145  :  [6.7 3.  5.2 2.3] , virginica\n",
      "la donnée numéro  146  :  [6.3 2.5 5.  1.9] , virginica\n",
      "la donnée numéro  147  :  [6.5 3.  5.2 2. ] , virginica\n",
      "la donnée numéro  148  :  [6.2 3.4 5.4 2.3] , virginica\n",
      "la donnée numéro  149  :  [5.9 3.  5.1 1.8] , virginica\n"
     ]
    }
   ],
   "source": [
    "j=0\n",
    "for i in iris.target:\n",
    "    print(\"la donnée numéro \",j,\" : \",iris.data[j],',',iris.target_names[i])\n",
    "    j=j+1"
   ]
  },
  {
   "cell_type": "markdown",
   "metadata": {},
   "source": [
    "<h4>4- Affichez la moyenne (mean), l’ecart-type (std), le min et le max pour chaque variable.</h4>"
   ]
  },
  {
   "cell_type": "code",
   "execution_count": 6,
   "metadata": {},
   "outputs": [
    {
     "name": "stdout",
     "output_type": "stream",
     "text": [
      "la moyenne de chaque variable :  [5.84333333 3.05733333 3.758      1.19933333]\n",
      "l'écart-type de chaque variable :  [0.82530129 0.43441097 1.75940407 0.75969263]\n",
      "le minimum de chaque variable :  [4.3 2.  1.  0.1]\n",
      "le maximum de chaque variable :  [7.9 4.4 6.9 2.5]\n"
     ]
    }
   ],
   "source": [
    "print(\"la moyenne de chaque variable : \",iris.data.mean(axis=0))\n",
    "print(\"l'écart-type de chaque variable : \",iris.data.std(axis=0))\n",
    "print(\"le minimum de chaque variable : \",iris.data.min(axis=0))\n",
    "print(\"le maximum de chaque variable : \",iris.data.max(axis=0))"
   ]
  },
  {
   "cell_type": "markdown",
   "metadata": {},
   "source": [
    "<h4>5- En utilisant les attributs size et shape, affichez le nombre de données, le nombre de\n",
    "variables et le nombre de classes.</h4>"
   ]
  },
  {
   "cell_type": "code",
   "execution_count": 7,
   "metadata": {},
   "outputs": [
    {
     "name": "stdout",
     "output_type": "stream",
     "text": [
      "le nombre de donnees =  150\n",
      "le nombre de variable =  4\n",
      "le nombre de class =  3\n"
     ]
    }
   ],
   "source": [
    "print(\"le nombre de donnees = \",iris.data.shape[0])\n",
    "print(\"le nombre de variable = \",iris.data.shape[1])\n",
    "print(\"le nombre de class = \",iris.target_names.size)"
   ]
  },
  {
   "cell_type": "markdown",
   "metadata": {},
   "source": [
    "<h3 style=\"color:#8080C0\">C. Téléchargement et importation de données</h3>\n",
    "<p style=\"color:orange\">Cette exo prend du temps pour exécuter, donc je met des commentaires, pour tester,il faut enlever les commentaires<p>\n",
    "<h4>1- Importez les données 'MNIST original'.</h4>"
   ]
  },
  {
   "cell_type": "code",
   "execution_count": 1,
   "metadata": {},
   "outputs": [
    {
     "data": {
      "text/plain": [
       "\"\\nfrom sklearn.datasets import fetch_openml\\nmnist = fetch_openml('mnist_784',version=1)\\n\""
      ]
     },
     "execution_count": 1,
     "metadata": {},
     "output_type": "execute_result"
    }
   ],
   "source": [
    "'''\n",
    "from sklearn.datasets import fetch_openml\n",
    "mnist = fetch_openml('mnist_784',version=1)\n",
    "'''"
   ]
  },
  {
   "cell_type": "markdown",
   "metadata": {},
   "source": [
    "<h4>2- Affichez la matrice des données, le nombre de données et de variables, les numéros de classes pour chaque donnée, ainsi que la moyenne, l’écart type, les valeurs min et max pour chaque variable ; enfin donnez le nombre de classe avec la fonction unique.</h4>"
   ]
  },
  {
   "cell_type": "code",
   "execution_count": 2,
   "metadata": {},
   "outputs": [
    {
     "data": {
      "text/plain": [
       "'\\nprint(\"la matrice des données : \",mnist.data)\\nprint(\"le nombre de données : \",mnist.data.shape[0])\\nprint(\"le nombre de variables : \",mnist.data.shape[1])\\n#print(\"un vecteur de numero de class : \",mnist.target)  \\n\\n\\nprint(\"les numéros de classes pour chaque donnée:\")\\n\\nj=0\\nfor i in mnist.target:\\n    print(\"les données numéro \",j,\" : \",mnist.data[j],\\',\\'+i)\\n    j=j+1\\n'"
      ]
     },
     "execution_count": 2,
     "metadata": {},
     "output_type": "execute_result"
    }
   ],
   "source": [
    "'''\n",
    "print(\"la matrice des données : \",mnist.data)\n",
    "print(\"le nombre de données : \",mnist.data.shape[0])\n",
    "print(\"le nombre de variables : \",mnist.data.shape[1])\n",
    "#print(\"un vecteur de numero de class : \",mnist.target)  \n",
    "\n",
    "\n",
    "print(\"les numéros de classes pour chaque donnée:\")\n",
    "\n",
    "j=0\n",
    "for i in mnist.target:\n",
    "    print(\"les données numéro \",j,\" : \",mnist.data[j],','+i)\n",
    "    j=j+1\n",
    "'''"
   ]
  },
  {
   "cell_type": "code",
   "execution_count": 3,
   "metadata": {},
   "outputs": [
    {
     "data": {
      "text/plain": [
       "'\\nprint(\"la moyenne de chaque variable : \",mnist.data.mean(axis=0))\\nprint(\"l\\'écart-type de chaque variable : \",mnist.data.std(axis=0))\\nprint(\"le minimum de chaque variable : \",mnist.data.min(axis=0))\\nprint(\"le maximum de chaque variable : \",mnist.data.max(axis=0))\\nprint(\"le nombre de class : \",len(np.unique(mnist.target)))\\n'"
      ]
     },
     "execution_count": 3,
     "metadata": {},
     "output_type": "execute_result"
    }
   ],
   "source": [
    "'''\n",
    "print(\"la moyenne de chaque variable : \",mnist.data.mean(axis=0))\n",
    "print(\"l'écart-type de chaque variable : \",mnist.data.std(axis=0))\n",
    "print(\"le minimum de chaque variable : \",mnist.data.min(axis=0))\n",
    "print(\"le maximum de chaque variable : \",mnist.data.max(axis=0))\n",
    "print(\"le nombre de class : \",len(np.unique(mnist.target)))\n",
    "'''"
   ]
  },
  {
   "cell_type": "markdown",
   "metadata": {},
   "source": [
    "<h3 style=\"color:#8080C0\">D. Génération de données et affichage</h3>\n",
    "<h4>1. Utiliser l’aide (help) pour voir comment utiliser la fonction datasets.make_blobs.</h4>"
   ]
  },
  {
   "cell_type": "code",
   "execution_count": 12,
   "metadata": {},
   "outputs": [],
   "source": [
    "from sklearn.datasets import make_blobs"
   ]
  },
  {
   "cell_type": "markdown",
   "metadata": {},
   "source": [
    "<p style = \"color:green\">\n",
    "La fonction make_blobs consiste à générer un ensemble de données pour le clustering</p>\n",
    "<h4>2. Générez 1000 données de deux variables réparties en 4 groupes.</h4>"
   ]
  },
  {
   "cell_type": "code",
   "execution_count": 13,
   "metadata": {},
   "outputs": [],
   "source": [
    "data,label = make_blobs(n_samples=1000,n_features=2,centers=4)"
   ]
  },
  {
   "cell_type": "markdown",
   "metadata": {},
   "source": [
    "<h4>3. Utilisez les fonctions figure, scatter, title, xlim, ylim, xlabel, ylabel et show pour afficher les données avec des couleurs correspondant aux classes. Les axes x et y seront dans l’intervalle [-15, 15] et devrons avoir un titre. La figure doit aussi avoir un titre.</h4>"
   ]
  },
  {
   "cell_type": "code",
   "execution_count": 14,
   "metadata": {},
   "outputs": [
    {
     "data": {
      "text/plain": [
       "<matplotlib.collections.PathCollection at 0x1a14ac0dd0>"
      ]
     },
     "execution_count": 14,
     "metadata": {},
     "output_type": "execute_result"
    },
    {
     "data": {
      "image/png": "[encoded data removed]",
      "text/plain": [
       "<Figure size 360x360 with 1 Axes>"
      ]
     },
     "metadata": {
      "needs_background": "light"
     },
     "output_type": "display_data"
    }
   ],
   "source": [
    "plt.figure(figsize=(5,5))\n",
    "plt.xlim(-15,15)\n",
    "plt.ylim(-15,15)\n",
    "plt.xlabel('x')\n",
    "plt.ylabel('y')\n",
    "plt.title('graphe intéressant')\n",
    "plt.scatter(data[:, 0], data[:, 1], c=label)"
   ]
  },
  {
   "cell_type": "markdown",
   "metadata": {},
   "source": [
    "<h4>4. Générez 100 données de deux variables réparties en 2 groupes, puis 500 données de deux variables réparties en 3 groupes. Concaténez (vstack et hstack) les deux jeux de données et les numéros de classe pour fusionner les deux jeux de données. Affichez les trois ensembles avec scatter comme précédemment.</h4>"
   ]
  },
  {
   "cell_type": "code",
   "execution_count": 15,
   "metadata": {},
   "outputs": [
    {
     "data": {
      "image/png": "[encoded data removed]",
      "text/plain": [
       "<Figure size 360x360 with 1 Axes>"
      ]
     },
     "metadata": {
      "needs_background": "light"
     },
     "output_type": "display_data"
    },
    {
     "data": {
      "text/plain": [
       "<matplotlib.collections.PathCollection at 0x1a14ab6b50>"
      ]
     },
     "execution_count": 15,
     "metadata": {},
     "output_type": "execute_result"
    },
    {
     "data": {
      "image/png": "[encoded data removed]",
      "text/plain": [
       "<Figure size 360x360 with 1 Axes>"
      ]
     },
     "metadata": {
      "needs_background": "light"
     },
     "output_type": "display_data"
    }
   ],
   "source": [
    "data1,label1 = make_blobs(n_samples=100,n_features=2,centers=2)\n",
    "plt.figure(figsize=(5,5))\n",
    "plt.xlim(-15,15)\n",
    "plt.ylim(-15,15)\n",
    "plt.xlabel('x1')\n",
    "plt.ylabel('y1')\n",
    "plt.title('graphe intéressant 1 avec 100 données')\n",
    "plt.scatter(data1[:, 0], data1[:, 1], c=label1)\n",
    "plt.show()\n",
    "data2,label2 = make_blobs(n_samples=500,n_features=2,centers=3)\n",
    "label2[label2==0]=3\n",
    "label2[label2==1]=4\n",
    "label2[label2==2]=5\n",
    "plt.figure(figsize=(5,5))\n",
    "plt.xlim(-15,15)\n",
    "plt.ylim(-15,15)\n",
    "plt.xlabel('x2')\n",
    "plt.ylabel('y2')\n",
    "plt.title('graphe intéressant 2 avec 500 données')\n",
    "plt.scatter(data2[:, 0], data2[:, 1], c=label2)"
   ]
  },
  {
   "cell_type": "code",
   "execution_count": 16,
   "metadata": {},
   "outputs": [
    {
     "data": {
      "text/plain": [
       "<matplotlib.collections.PathCollection at 0x1a14a9dad0>"
      ]
     },
     "execution_count": 16,
     "metadata": {},
     "output_type": "execute_result"
    },
    {
     "data": {
      "image/png": "[encoded data removed]",
      "text/plain": [
       "<Figure size 360x360 with 1 Axes>"
      ]
     },
     "metadata": {
      "needs_background": "light"
     },
     "output_type": "display_data"
    }
   ],
   "source": [
    "data3=np.vstack((data1,data2))\n",
    "label3=np.hstack((label1,label2))\n",
    "plt.figure(figsize=(5,5))\n",
    "plt.xlim(-15,15)\n",
    "plt.ylim(-15,15)\n",
    "plt.xlabel('x3')\n",
    "plt.ylabel('y3')\n",
    "plt.title('graphe intéressant 3 avec 600 données')\n",
    "plt.scatter(data3[:, 0], data3[:, 1], c=label3)"
   ]
  },
  {
   "cell_type": "code",
   "execution_count": null,
   "metadata": {},
   "outputs": [],
   "source": []
  }
 ],
 "metadata": {
  "kernelspec": {
   "display_name": "Python 3",
   "language": "python",
   "name": "python3"
  },
  "language_info": {
   "codemirror_mode": {
    "name": "ipython",
    "version": 3
   },
   "file_extension": ".py",
   "mimetype": "text/x-python",
   "name": "python",
   "nbconvert_exporter": "python",
   "pygments_lexer": "ipython3",
   "version": "3.7.6"
  }
 },
 "nbformat": 4,
 "nbformat_minor": 4
}
