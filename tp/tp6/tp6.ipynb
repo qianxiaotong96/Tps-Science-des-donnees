{
 "cells": [
  {
   "cell_type": "markdown",
   "metadata": {},
   "source": [
    "<h1 style=\"text-align:center;background-color:#336699;color:white;\">TP6\n",
    "Analyse et prédiction des infections COVID-19</h1>\n",
    "<h3 style=\"color:#8080C0\"><i style=\"color:red\">L’objectif de ce TP</i> est d’explorer ces données pour en extraire des connaissances afin d’aider la communauté à mieux comprendre la propagation du COVID-19.\n",
    "<br/>Le TP est composé de l’ensemble des questions suivant :\n",
    "<br/>Afin d'analyser l'ensemble des données, vous devez identifier et extraire certaines informations statistiques sur les données, par exemple : le type de données, les valeurs manquantes, les valeurs aberrantes, la corrélation entre les variables, etc.\n",
    "<br>Dans le cas des valeurs manquantes, vous pouvez les remplacer par la moyenne, la médiane ou le mode de la variable concernée.</h3>"
   ]
  },
  {
   "cell_type": "code",
   "execution_count": 1,
   "metadata": {},
   "outputs": [
    {
     "data": {
      "text/html": [
       "<div>\n",
       "<style scoped>\n",
       "    .dataframe tbody tr th:only-of-type {\n",
       "        vertical-align: middle;\n",
       "    }\n",
       "\n",
       "    .dataframe tbody tr th {\n",
       "        vertical-align: top;\n",
       "    }\n",
       "\n",
       "    .dataframe thead th {\n",
       "        text-align: right;\n",
       "    }\n",
       "</style>\n",
       "<table border=\"1\" class=\"dataframe\">\n",
       "  <thead>\n",
       "    <tr style=\"text-align: right;\">\n",
       "      <th></th>\n",
       "      <th>id</th>\n",
       "      <th>age</th>\n",
       "      <th>sex</th>\n",
       "      <th>city</th>\n",
       "      <th>province</th>\n",
       "      <th>country</th>\n",
       "      <th>latitude</th>\n",
       "      <th>longitude</th>\n",
       "      <th>geo_resolution</th>\n",
       "      <th>date_onset_symptoms</th>\n",
       "      <th>...</th>\n",
       "      <th>sequence_available</th>\n",
       "      <th>outcome</th>\n",
       "      <th>date_death_or_discharge</th>\n",
       "      <th>notes_for_discussion</th>\n",
       "      <th>location</th>\n",
       "      <th>admin3</th>\n",
       "      <th>admin2</th>\n",
       "      <th>admin1</th>\n",
       "      <th>country_new</th>\n",
       "      <th>admin_id</th>\n",
       "    </tr>\n",
       "  </thead>\n",
       "  <tbody>\n",
       "    <tr>\n",
       "      <th>0</th>\n",
       "      <td>1</td>\n",
       "      <td>15-88</td>\n",
       "      <td>male</td>\n",
       "      <td>Wuhan City</td>\n",
       "      <td>Hubei</td>\n",
       "      <td>China</td>\n",
       "      <td>30.596415</td>\n",
       "      <td>114.279780</td>\n",
       "      <td>point</td>\n",
       "      <td>- 18.01.2020</td>\n",
       "      <td>...</td>\n",
       "      <td>NaN</td>\n",
       "      <td>NaN</td>\n",
       "      <td>NaN</td>\n",
       "      <td>NaN</td>\n",
       "      <td>NaN</td>\n",
       "      <td>NaN</td>\n",
       "      <td>Wuhan City</td>\n",
       "      <td>Hubei</td>\n",
       "      <td>China</td>\n",
       "      <td>420100</td>\n",
       "    </tr>\n",
       "    <tr>\n",
       "      <th>1</th>\n",
       "      <td>2</td>\n",
       "      <td>15-88</td>\n",
       "      <td>male</td>\n",
       "      <td>Wuhan City</td>\n",
       "      <td>Hubei</td>\n",
       "      <td>China</td>\n",
       "      <td>30.596415</td>\n",
       "      <td>114.279780</td>\n",
       "      <td>point</td>\n",
       "      <td>- 18.01.2020</td>\n",
       "      <td>...</td>\n",
       "      <td>NaN</td>\n",
       "      <td>NaN</td>\n",
       "      <td>NaN</td>\n",
       "      <td>NaN</td>\n",
       "      <td>NaN</td>\n",
       "      <td>NaN</td>\n",
       "      <td>Wuhan City</td>\n",
       "      <td>Hubei</td>\n",
       "      <td>China</td>\n",
       "      <td>420100</td>\n",
       "    </tr>\n",
       "    <tr>\n",
       "      <th>2</th>\n",
       "      <td>3</td>\n",
       "      <td>15-88</td>\n",
       "      <td>male</td>\n",
       "      <td>Wuhan City</td>\n",
       "      <td>Hubei</td>\n",
       "      <td>China</td>\n",
       "      <td>30.596415</td>\n",
       "      <td>114.279780</td>\n",
       "      <td>point</td>\n",
       "      <td>- 18.01.2020</td>\n",
       "      <td>...</td>\n",
       "      <td>NaN</td>\n",
       "      <td>NaN</td>\n",
       "      <td>NaN</td>\n",
       "      <td>NaN</td>\n",
       "      <td>NaN</td>\n",
       "      <td>NaN</td>\n",
       "      <td>Wuhan City</td>\n",
       "      <td>Hubei</td>\n",
       "      <td>China</td>\n",
       "      <td>420100</td>\n",
       "    </tr>\n",
       "    <tr>\n",
       "      <th>3</th>\n",
       "      <td>4</td>\n",
       "      <td>15-88</td>\n",
       "      <td>male</td>\n",
       "      <td>Wuhan City</td>\n",
       "      <td>Hubei</td>\n",
       "      <td>China</td>\n",
       "      <td>30.596415</td>\n",
       "      <td>114.279780</td>\n",
       "      <td>point</td>\n",
       "      <td>- 18.01.2020</td>\n",
       "      <td>...</td>\n",
       "      <td>NaN</td>\n",
       "      <td>NaN</td>\n",
       "      <td>NaN</td>\n",
       "      <td>NaN</td>\n",
       "      <td>NaN</td>\n",
       "      <td>NaN</td>\n",
       "      <td>Wuhan City</td>\n",
       "      <td>Hubei</td>\n",
       "      <td>China</td>\n",
       "      <td>420100</td>\n",
       "    </tr>\n",
       "    <tr>\n",
       "      <th>4</th>\n",
       "      <td>5</td>\n",
       "      <td>15-88</td>\n",
       "      <td>male</td>\n",
       "      <td>Wuhan City</td>\n",
       "      <td>Hubei</td>\n",
       "      <td>China</td>\n",
       "      <td>30.596415</td>\n",
       "      <td>114.279780</td>\n",
       "      <td>point</td>\n",
       "      <td>- 18.01.2020</td>\n",
       "      <td>...</td>\n",
       "      <td>NaN</td>\n",
       "      <td>NaN</td>\n",
       "      <td>NaN</td>\n",
       "      <td>NaN</td>\n",
       "      <td>NaN</td>\n",
       "      <td>NaN</td>\n",
       "      <td>Wuhan City</td>\n",
       "      <td>Hubei</td>\n",
       "      <td>China</td>\n",
       "      <td>420100</td>\n",
       "    </tr>\n",
       "    <tr>\n",
       "      <th>...</th>\n",
       "      <td>...</td>\n",
       "      <td>...</td>\n",
       "      <td>...</td>\n",
       "      <td>...</td>\n",
       "      <td>...</td>\n",
       "      <td>...</td>\n",
       "      <td>...</td>\n",
       "      <td>...</td>\n",
       "      <td>...</td>\n",
       "      <td>...</td>\n",
       "      <td>...</td>\n",
       "      <td>...</td>\n",
       "      <td>...</td>\n",
       "      <td>...</td>\n",
       "      <td>...</td>\n",
       "      <td>...</td>\n",
       "      <td>...</td>\n",
       "      <td>...</td>\n",
       "      <td>...</td>\n",
       "      <td>...</td>\n",
       "      <td>...</td>\n",
       "    </tr>\n",
       "    <tr>\n",
       "      <th>10130</th>\n",
       "      <td>14725</td>\n",
       "      <td>NaN</td>\n",
       "      <td>NaN</td>\n",
       "      <td>Qianjiang City</td>\n",
       "      <td>Hubei</td>\n",
       "      <td>China</td>\n",
       "      <td>30.403861</td>\n",
       "      <td>112.886318</td>\n",
       "      <td>point</td>\n",
       "      <td>NaN</td>\n",
       "      <td>...</td>\n",
       "      <td>NaN</td>\n",
       "      <td>NaN</td>\n",
       "      <td>NaN</td>\n",
       "      <td>NaN</td>\n",
       "      <td>NaN</td>\n",
       "      <td>Qianjiang City</td>\n",
       "      <td>NaN</td>\n",
       "      <td>Hubei</td>\n",
       "      <td>China</td>\n",
       "      <td>429005</td>\n",
       "    </tr>\n",
       "    <tr>\n",
       "      <th>10131</th>\n",
       "      <td>14726</td>\n",
       "      <td>NaN</td>\n",
       "      <td>NaN</td>\n",
       "      <td>Qianjiang City</td>\n",
       "      <td>Hubei</td>\n",
       "      <td>China</td>\n",
       "      <td>30.403861</td>\n",
       "      <td>112.886318</td>\n",
       "      <td>point</td>\n",
       "      <td>NaN</td>\n",
       "      <td>...</td>\n",
       "      <td>NaN</td>\n",
       "      <td>NaN</td>\n",
       "      <td>NaN</td>\n",
       "      <td>NaN</td>\n",
       "      <td>NaN</td>\n",
       "      <td>Qianjiang City</td>\n",
       "      <td>NaN</td>\n",
       "      <td>Hubei</td>\n",
       "      <td>China</td>\n",
       "      <td>429005</td>\n",
       "    </tr>\n",
       "    <tr>\n",
       "      <th>10132</th>\n",
       "      <td>14727</td>\n",
       "      <td>NaN</td>\n",
       "      <td>NaN</td>\n",
       "      <td>Shennongjia Forest District</td>\n",
       "      <td>Hubei</td>\n",
       "      <td>China</td>\n",
       "      <td>31.583333</td>\n",
       "      <td>110.500000</td>\n",
       "      <td>point</td>\n",
       "      <td>NaN</td>\n",
       "      <td>...</td>\n",
       "      <td>NaN</td>\n",
       "      <td>NaN</td>\n",
       "      <td>NaN</td>\n",
       "      <td>NaN</td>\n",
       "      <td>NaN</td>\n",
       "      <td>Shennongjia Forest District</td>\n",
       "      <td>NaN</td>\n",
       "      <td>Hubei</td>\n",
       "      <td>China</td>\n",
       "      <td>429021</td>\n",
       "    </tr>\n",
       "    <tr>\n",
       "      <th>10133</th>\n",
       "      <td>14728</td>\n",
       "      <td>NaN</td>\n",
       "      <td>NaN</td>\n",
       "      <td>Shennongjia Forest District</td>\n",
       "      <td>Hubei</td>\n",
       "      <td>China</td>\n",
       "      <td>31.583333</td>\n",
       "      <td>110.500000</td>\n",
       "      <td>point</td>\n",
       "      <td>NaN</td>\n",
       "      <td>...</td>\n",
       "      <td>NaN</td>\n",
       "      <td>NaN</td>\n",
       "      <td>NaN</td>\n",
       "      <td>NaN</td>\n",
       "      <td>NaN</td>\n",
       "      <td>Shennongjia Forest District</td>\n",
       "      <td>NaN</td>\n",
       "      <td>Hubei</td>\n",
       "      <td>China</td>\n",
       "      <td>429021</td>\n",
       "    </tr>\n",
       "    <tr>\n",
       "      <th>10134</th>\n",
       "      <td>14729</td>\n",
       "      <td>NaN</td>\n",
       "      <td>NaN</td>\n",
       "      <td>Shennongjia Forest District</td>\n",
       "      <td>Hubei</td>\n",
       "      <td>China</td>\n",
       "      <td>31.583333</td>\n",
       "      <td>110.500000</td>\n",
       "      <td>point</td>\n",
       "      <td>NaN</td>\n",
       "      <td>...</td>\n",
       "      <td>NaN</td>\n",
       "      <td>NaN</td>\n",
       "      <td>NaN</td>\n",
       "      <td>NaN</td>\n",
       "      <td>NaN</td>\n",
       "      <td>Shennongjia Forest District</td>\n",
       "      <td>NaN</td>\n",
       "      <td>Hubei</td>\n",
       "      <td>China</td>\n",
       "      <td>429021</td>\n",
       "    </tr>\n",
       "  </tbody>\n",
       "</table>\n",
       "<p>10135 rows × 31 columns</p>\n",
       "</div>"
      ],
      "text/plain": [
       "          id    age   sex                         city province country  \\\n",
       "0          1  15-88  male                   Wuhan City    Hubei   China   \n",
       "1          2  15-88  male                   Wuhan City    Hubei   China   \n",
       "2          3  15-88  male                   Wuhan City    Hubei   China   \n",
       "3          4  15-88  male                   Wuhan City    Hubei   China   \n",
       "4          5  15-88  male                   Wuhan City    Hubei   China   \n",
       "...      ...    ...   ...                          ...      ...     ...   \n",
       "10130  14725    NaN   NaN               Qianjiang City    Hubei   China   \n",
       "10131  14726    NaN   NaN               Qianjiang City    Hubei   China   \n",
       "10132  14727    NaN   NaN  Shennongjia Forest District    Hubei   China   \n",
       "10133  14728    NaN   NaN  Shennongjia Forest District    Hubei   China   \n",
       "10134  14729    NaN   NaN  Shennongjia Forest District    Hubei   China   \n",
       "\n",
       "        latitude   longitude geo_resolution date_onset_symptoms  ...  \\\n",
       "0      30.596415  114.279780          point        - 18.01.2020  ...   \n",
       "1      30.596415  114.279780          point        - 18.01.2020  ...   \n",
       "2      30.596415  114.279780          point        - 18.01.2020  ...   \n",
       "3      30.596415  114.279780          point        - 18.01.2020  ...   \n",
       "4      30.596415  114.279780          point        - 18.01.2020  ...   \n",
       "...          ...         ...            ...                 ...  ...   \n",
       "10130  30.403861  112.886318          point                 NaN  ...   \n",
       "10131  30.403861  112.886318          point                 NaN  ...   \n",
       "10132  31.583333  110.500000          point                 NaN  ...   \n",
       "10133  31.583333  110.500000          point                 NaN  ...   \n",
       "10134  31.583333  110.500000          point                 NaN  ...   \n",
       "\n",
       "      sequence_available outcome date_death_or_discharge notes_for_discussion  \\\n",
       "0                    NaN     NaN                     NaN                  NaN   \n",
       "1                    NaN     NaN                     NaN                  NaN   \n",
       "2                    NaN     NaN                     NaN                  NaN   \n",
       "3                    NaN     NaN                     NaN                  NaN   \n",
       "4                    NaN     NaN                     NaN                  NaN   \n",
       "...                  ...     ...                     ...                  ...   \n",
       "10130                NaN     NaN                     NaN                  NaN   \n",
       "10131                NaN     NaN                     NaN                  NaN   \n",
       "10132                NaN     NaN                     NaN                  NaN   \n",
       "10133                NaN     NaN                     NaN                  NaN   \n",
       "10134                NaN     NaN                     NaN                  NaN   \n",
       "\n",
       "       location                       admin3      admin2 admin1  country_new  \\\n",
       "0           NaN                          NaN  Wuhan City  Hubei        China   \n",
       "1           NaN                          NaN  Wuhan City  Hubei        China   \n",
       "2           NaN                          NaN  Wuhan City  Hubei        China   \n",
       "3           NaN                          NaN  Wuhan City  Hubei        China   \n",
       "4           NaN                          NaN  Wuhan City  Hubei        China   \n",
       "...         ...                          ...         ...    ...          ...   \n",
       "10130       NaN               Qianjiang City         NaN  Hubei        China   \n",
       "10131       NaN               Qianjiang City         NaN  Hubei        China   \n",
       "10132       NaN  Shennongjia Forest District         NaN  Hubei        China   \n",
       "10133       NaN  Shennongjia Forest District         NaN  Hubei        China   \n",
       "10134       NaN  Shennongjia Forest District         NaN  Hubei        China   \n",
       "\n",
       "      admin_id  \n",
       "0       420100  \n",
       "1       420100  \n",
       "2       420100  \n",
       "3       420100  \n",
       "4       420100  \n",
       "...        ...  \n",
       "10130   429005  \n",
       "10131   429005  \n",
       "10132   429021  \n",
       "10133   429021  \n",
       "10134   429021  \n",
       "\n",
       "[10135 rows x 31 columns]"
      ]
     },
     "execution_count": 1,
     "metadata": {},
     "output_type": "execute_result"
    }
   ],
   "source": [
    "#!/usr/bin/env python3\n",
    "# -*- coding: utf-8 -*-\n",
    "\"\"\"\n",
    "@author: QIAN Xiaotong\n",
    "@author: BIAN Yiping\n",
    "\"\"\"\n",
    "import pandas as pd\n",
    "import numpy as np\n",
    "import time\n",
    "\n",
    "data = pd.read_csv(\"clean-hubei.csv\")\n",
    "data"
   ]
  },
  {
   "cell_type": "code",
   "execution_count": 2,
   "metadata": {},
   "outputs": [
    {
     "data": {
      "text/plain": [
       "id                            int64\n",
       "age                          object\n",
       "sex                          object\n",
       "city                         object\n",
       "province                     object\n",
       "country                      object\n",
       "latitude                    float64\n",
       "longitude                   float64\n",
       "geo_resolution               object\n",
       "date_onset_symptoms          object\n",
       "date_admission_hospital      object\n",
       "date_confirmation            object\n",
       "symptoms                     object\n",
       "lives_in_wuhan               object\n",
       "travel_history_dates        float64\n",
       "travel_history_location     float64\n",
       "reported_market_exposure     object\n",
       "additional_information       object\n",
       "chronic_disease_binary      float64\n",
       "chronic_disease              object\n",
       "source                       object\n",
       "sequence_available           object\n",
       "outcome                      object\n",
       "date_death_or_discharge      object\n",
       "notes_for_discussion        float64\n",
       "location                    float64\n",
       "admin3                       object\n",
       "admin2                       object\n",
       "admin1                       object\n",
       "country_new                  object\n",
       "admin_id                      int64\n",
       "dtype: object"
      ]
     },
     "execution_count": 2,
     "metadata": {},
     "output_type": "execute_result"
    }
   ],
   "source": [
    "data.dtypes"
   ]
  },
  {
   "cell_type": "markdown",
   "metadata": {},
   "source": [
    "<h3 style = \"color:Orange\">Data pre-processing</h3>\n",
    "<h5 style = \"color: #38B0DE\">Etape 1 : D'abord on a vu pas mal de valeur manquantes, donc on va supprimer les colonnes qui contient qu'une seule type de valeur ou qui contient que \"Nan\". </h5>"
   ]
  },
  {
   "cell_type": "code",
   "execution_count": 3,
   "metadata": {},
   "outputs": [
    {
     "name": "stdout",
     "output_type": "stream",
     "text": [
      "province  :  ['Hubei']\n",
      "country  :  ['China']\n",
      "geo_resolution  :  ['point']\n",
      "travel_history_dates  :  [nan]\n",
      "travel_history_location  :  [nan]\n",
      "notes_for_discussion  :  [nan]\n",
      "location  :  [nan]\n",
      "admin1  :  ['Hubei']\n",
      "country_new  :  ['China']\n"
     ]
    }
   ],
   "source": [
    "for index,row in data.iteritems():\n",
    "    if len(data[index].unique()) == 1:\n",
    "        print(index,' : ',data[index].unique())"
   ]
  },
  {
   "cell_type": "code",
   "execution_count": 4,
   "metadata": {},
   "outputs": [],
   "source": [
    "data = data.drop(['province','country','geo_resolution',\n",
    "                  'travel_history_dates','travel_history_location',\n",
    "                  'notes_for_discussion','location',\n",
    "                  'admin1','country_new'],axis=1)"
   ]
  },
  {
   "cell_type": "markdown",
   "metadata": {},
   "source": [
    "<h5 style = \"color: #38B0DE\">Etape 2 : Ensuite on calcule le pourcentage de valeur manquante de chaque variable. Supprimer qui est plus grand que 0.999</h5>"
   ]
  },
  {
   "cell_type": "code",
   "execution_count": 5,
   "metadata": {},
   "outputs": [
    {
     "name": "stdout",
     "output_type": "stream",
     "text": [
      "reported_market_exposure  :  0.9999013320177602\n",
      "sequence_available  :  0.9998026640355204\n"
     ]
    }
   ],
   "source": [
    "for index,row in data.iteritems():\n",
    "       if (data[index].isna().sum()/len(data[index])>0.999):\n",
    "               print(index,' : ',data[index].isna().sum()/len(data[index]))"
   ]
  },
  {
   "cell_type": "code",
   "execution_count": 6,
   "metadata": {},
   "outputs": [],
   "source": [
    "data = data.drop(['reported_market_exposure','sequence_available'],axis=1)"
   ]
  },
  {
   "cell_type": "markdown",
   "metadata": {},
   "source": [
    "<h5 style = \"color: #38B0DE\">Etape 3 : Ensuite on voit les variables qui contient les \"date\", et on choisi le mimum de la date de ces variables, ensuite on remplace les valeurs par la distance entre cette date et les valeurs.</h5>"
   ]
  },
  {
   "cell_type": "code",
   "execution_count": 7,
   "metadata": {},
   "outputs": [
    {
     "data": {
      "text/plain": [
       "array(['- 18.01.2020', nan, '23.12.2019', '10.12.2019', '10.01.2020',\n",
       "       '13.01.2020', '20.12.2019', '30.12.2019', '05.01.2020',\n",
       "       '06.01.2020', '09.01.2020', '22.12.2019', '15.01.2020',\n",
       "       '03.01.2020', '11.01.2020', '01.01.2020 - 31.01.2020',\n",
       "       '02.01.2020', '18.01.2020', '08.01.2020', '12.01.2020',\n",
       "       '26.11.2020', '29.12.2019'], dtype=object)"
      ]
     },
     "execution_count": 7,
     "metadata": {},
     "output_type": "execute_result"
    }
   ],
   "source": [
    "data['date_onset_symptoms'].unique()"
   ]
  },
  {
   "cell_type": "code",
   "execution_count": 8,
   "metadata": {},
   "outputs": [
    {
     "data": {
      "text/plain": [
       "array([nan, '27.12.2019', '31.12.2019', '16.01.2020', '10.12.2019',\n",
       "       '18.01.2020', '03.01.2020', '05.01.2020', '11.01.2020',\n",
       "       '14.01.2020', '06.01.2020', '13.01.2020', '09.01.2020',\n",
       "       '19.01.2020', '17.01.2020', '23.01.2020', '15.01.2020',\n",
       "       '01.01.2020', '12.01.2020', '21.01.2020'], dtype=object)"
      ]
     },
     "execution_count": 8,
     "metadata": {},
     "output_type": "execute_result"
    }
   ],
   "source": [
    "data['date_admission_hospital'].unique()"
   ]
  },
  {
   "cell_type": "code",
   "execution_count": 9,
   "metadata": {},
   "outputs": [
    {
     "data": {
      "text/plain": [
       "array(['20.01.2020', nan, '18.01.2020', '19.01.2020', '23.01.2020',\n",
       "       '27.01.2020', '28.01.2020', '29.01.2020', '30.01.2020',\n",
       "       '31.01.2020', '01.02.2020', '03.02.2020'], dtype=object)"
      ]
     },
     "execution_count": 9,
     "metadata": {},
     "output_type": "execute_result"
    }
   ],
   "source": [
    "data['date_confirmation'].unique()"
   ]
  },
  {
   "cell_type": "code",
   "execution_count": 10,
   "metadata": {},
   "outputs": [
    {
     "data": {
      "text/plain": [
       "array([nan, '16.01.2020', '20.01.2020', '19.01.2020', '09.01.2020',\n",
       "       '15.01.2020', '18.01.2020', '21.01.2020', '22.01.2020',\n",
       "       '23.01.2020', '24.01.2020'], dtype=object)"
      ]
     },
     "execution_count": 10,
     "metadata": {},
     "output_type": "execute_result"
    }
   ],
   "source": [
    "data['date_death_or_discharge'].unique()"
   ]
  },
  {
   "cell_type": "code",
   "execution_count": 11,
   "metadata": {},
   "outputs": [],
   "source": [
    "for i in range(data.shape[0]):\n",
    "    for j in ['date_onset_symptoms','date_admission_hospital','date_confirmation','date_death_or_discharge']:\n",
    "        if type(data.loc[i,j]) == str:\n",
    "            if data.loc[i,j] == '- 18.01.2020':\n",
    "                data.loc[i,j] = int(time.mktime(time.strptime(data.loc[i,j][2:], \"%d.%m.%Y\")))/86400 \n",
    "            elif data.loc[i,j] == '01.01.2020 - 31.01.2020':\n",
    "                data.loc[i,j] = (int(time.mktime(time.strptime(data.loc[i,j][13:24], \"%d.%m.%Y\"))) + int(time.mktime(time.strptime(data.loc[i,j][0:10], \"%d.%m.%Y\"))))/(2*86400) \n",
    "            else :\n",
    "                data.loc[i,j] = int(time.mktime(time.strptime(data.loc[i,j], \"%d.%m.%Y\")))/86400   \n",
    "            "
   ]
  },
  {
   "cell_type": "code",
   "execution_count": 12,
   "metadata": {},
   "outputs": [],
   "source": [
    "minimum = min([min(data['date_onset_symptoms']),\n",
    "               min(data['date_admission_hospital']),\n",
    "               min(data['date_confirmation']),\n",
    "               min(data['date_death_or_discharge'])]) \n",
    "for j in ['date_onset_symptoms','date_admission_hospital','date_confirmation','date_death_or_discharge']:\n",
    "        data.loc[np.where(data[j].isna() == False)[0],j] = data.loc[np.where(data[j].isna() == False)[0],j] - minimum"
   ]
  },
  {
   "cell_type": "code",
   "execution_count": 13,
   "metadata": {},
   "outputs": [],
   "source": [
    "for j in ['date_onset_symptoms','date_admission_hospital','date_confirmation','date_death_or_discharge']:\n",
    "    data.loc[np.where(data[j].isna())[0],j] = data.loc[np.where(data[j].isna() == False)[0],j].mode()[0]\n",
    "    data[j] = data[j].astype(int)"
   ]
  },
  {
   "cell_type": "code",
   "execution_count": 14,
   "metadata": {},
   "outputs": [
    {
     "data": {
      "text/plain": [
       "array([ 39,  13,   0,  31,  34,  10,  20,  26,  27,  30,  12,  36,  24,\n",
       "        32,  37,  23,  29,  33, 352,  19])"
      ]
     },
     "execution_count": 14,
     "metadata": {},
     "output_type": "execute_result"
    }
   ],
   "source": [
    "data['date_onset_symptoms'].unique()"
   ]
  },
  {
   "cell_type": "code",
   "execution_count": 15,
   "metadata": {},
   "outputs": [
    {
     "data": {
      "text/plain": [
       "array([39, 17, 21, 37,  0, 24, 26, 32, 35, 27, 34, 30, 40, 38, 44, 36, 22,\n",
       "       33, 42])"
      ]
     },
     "execution_count": 15,
     "metadata": {},
     "output_type": "execute_result"
    }
   ],
   "source": [
    "data['date_admission_hospital'].unique()"
   ]
  },
  {
   "cell_type": "code",
   "execution_count": 16,
   "metadata": {},
   "outputs": [
    {
     "data": {
      "text/plain": [
       "array([41, 55, 39, 40, 44, 48, 49, 50, 51, 52, 53])"
      ]
     },
     "execution_count": 16,
     "metadata": {},
     "output_type": "execute_result"
    }
   ],
   "source": [
    "data['date_confirmation'].unique()"
   ]
  },
  {
   "cell_type": "code",
   "execution_count": 17,
   "metadata": {},
   "outputs": [
    {
     "data": {
      "text/plain": [
       "array([42, 37, 41, 40, 30, 36, 39, 43, 44, 45])"
      ]
     },
     "execution_count": 17,
     "metadata": {},
     "output_type": "execute_result"
    }
   ],
   "source": [
    "data['date_death_or_discharge'].unique()"
   ]
  },
  {
   "cell_type": "markdown",
   "metadata": {},
   "source": [
    "<h5 style = \"color: #38B0DE\">Etape 4 : Ensuite on voit la variable \"age\" est de type object, plus précisement du type string, donc on faire transformer le type \"str\" à \"float\", et pour les valeurs qui est sous cette forme \"a-b\", on fait b-a, ensuite on remplace les valeurs manquantes par la moyenne.</h5>"
   ]
  },
  {
   "cell_type": "code",
   "execution_count": 18,
   "metadata": {},
   "outputs": [
    {
     "data": {
      "text/plain": [
       "array(['15-88', '32', '49', '66', '48', '89', '61', '69', '75', '82',\n",
       "       '81', '65', '80', '53', '86', '70', '84', nan, '21-39', '40-49',\n",
       "       '50-59', '60-69', '70-82', '25-89', '76', '72', '79', '55', '87',\n",
       "       '58', '78', '67', '85', '36', '73'], dtype=object)"
      ]
     },
     "execution_count": 18,
     "metadata": {},
     "output_type": "execute_result"
    }
   ],
   "source": [
    "data['age'].unique()"
   ]
  },
  {
   "cell_type": "code",
   "execution_count": 19,
   "metadata": {},
   "outputs": [],
   "source": [
    "for i in range(data.shape[0]):\n",
    "    if (type(data.loc[i,'age']) == str) :\n",
    "        if data.loc[i,'age'].find('-') != -1:\n",
    "            data.loc[i,'age'] = (float(data.loc[i,'age'].split('-')[1]) \n",
    "                                 + float(data.loc[i,'age'].split('-')[0]))/2.0\n",
    "        else:\n",
    "            data.loc[i,'age'] = float(data.loc[i,'age'])"
   ]
  },
  {
   "cell_type": "code",
   "execution_count": 20,
   "metadata": {},
   "outputs": [
    {
     "data": {
      "text/plain": [
       "array([51.5, 32.0, 49.0, 66.0, 48.0, 89.0, 61.0, 69.0, 75.0, 82.0, 81.0,\n",
       "       65.0, 80.0, 53.0, 86.0, 70.0, 84.0, 57.11063829787234, 30.0, 44.5,\n",
       "       54.5, 64.5, 76.0, 57.0, 72.0, 79.0, 55.0, 87.0, 58.0, 78.0, 67.0,\n",
       "       85.0, 36.0, 73.0], dtype=object)"
      ]
     },
     "execution_count": 20,
     "metadata": {},
     "output_type": "execute_result"
    }
   ],
   "source": [
    "moyen = data.loc[np.where(data['age'].isna() == False)[0],'age'].mean()\n",
    "data.loc[np.where(data['age'].isna())[0],'age'] = moyen\n",
    "data['age'].unique()"
   ]
  },
  {
   "cell_type": "code",
   "execution_count": 21,
   "metadata": {},
   "outputs": [],
   "source": [
    "data['age'] = data['age'].astype(float)"
   ]
  },
  {
   "cell_type": "markdown",
   "metadata": {},
   "source": [
    "<h5 style = \"color: #38B0DE\">Etape 5 : Ensuite on voit il y a trois type de valeurs dans la variable \"outcome\", donc en respectant le consignes du professeur, on remplace la valeur manquante par \"discharged\".</h5>"
   ]
  },
  {
   "cell_type": "code",
   "execution_count": 22,
   "metadata": {},
   "outputs": [
    {
     "data": {
      "text/plain": [
       "array([nan, 'discharged', 'died'], dtype=object)"
      ]
     },
     "execution_count": 22,
     "metadata": {},
     "output_type": "execute_result"
    }
   ],
   "source": [
    "data['outcome'].unique()"
   ]
  },
  {
   "cell_type": "code",
   "execution_count": 23,
   "metadata": {},
   "outputs": [
    {
     "data": {
      "text/plain": [
       "array(['discharged', 'died'], dtype=object)"
      ]
     },
     "execution_count": 23,
     "metadata": {},
     "output_type": "execute_result"
    }
   ],
   "source": [
    "data.loc[np.where(data['outcome'].isna())[0],'outcome'] = 'discharged'\n",
    "data['outcome'].unique()"
   ]
  },
  {
   "cell_type": "markdown",
   "metadata": {},
   "source": [
    "<h5 style = \"color: #38B0DE\">Etape 6 : Ensuite on voit il y a pas mal de valeur de type \"string\", pour faciliter le calcul de la coefficient de la corrélation, on les remplacer par la valeur numérique.</h5>"
   ]
  },
  {
   "cell_type": "code",
   "execution_count": 24,
   "metadata": {},
   "outputs": [
    {
     "data": {
      "text/plain": [
       "{'sex': (array([ 0,  0,  0, ..., -1, -1, -1]),\n",
       "  Index(['male', 'female'], dtype='object')),\n",
       " 'city': (array([ 0,  0,  0, ..., 17, 17, 17]),\n",
       "  Index(['Wuhan City', 'Xiaogan City', 'Huanggang City', 'Jingzhou City',\n",
       "         'Jingmen City', 'Xiantao City', 'Yuan'an County, Yichang City',\n",
       "         'Shiyan City', 'Enshi Prefecture', 'Suizhou City', 'Tianmen City',\n",
       "         'Ezhou City', 'Xiangyang City', 'Yichang City', 'Xianning City',\n",
       "         'Huangshi City', 'Qianjiang City', 'Shennongjia Forest District'],\n",
       "        dtype='object')),\n",
       " 'latitude': (array([ 0,  0,  0, ..., 16, 16, 16]),\n",
       "  Float64Index([30.596415000000004,            30.9178,            30.4537,\n",
       "                           30.3352,            31.0354,            30.3609,\n",
       "                30.691999999999997,            32.6294, 30.283333000000002,\n",
       "                             31.69,             30.664,               30.4,\n",
       "                             32.01,          29.853811,          30.198318,\n",
       "                         30.403861, 31.583333000000003],\n",
       "               dtype='float64')),\n",
       " 'longitude': (array([ 0,  0,  0, ..., 16, 16, 16]),\n",
       "  Float64Index([         114.27978, 113.95700000000001,           114.8722,\n",
       "                          112.2396,           112.1994,           113.4235,\n",
       "                          111.2865,           110.7983,         109.483333,\n",
       "                           113.382,            113.167, 114.83333300000001,\n",
       "                112.12200000000001, 114.32028500000001,         115.035855,\n",
       "                112.88631799999999,              110.5],\n",
       "               dtype='float64')),\n",
       " 'symptoms': (array([-1, -1, -1, ..., -1, -1, -1]),\n",
       "  Index(['chest discomfort, cough, fever', 'dyspnea, respiratory stress',\n",
       "         'cough, fatigue, fever, headache',\n",
       "         'cough, fatigure, fever, little sputum, muscular soreness', 'dyspnea',\n",
       "         'cough, fever', 'obnubilation, somnolence',\n",
       "         'cough, expectoration, emesis, fever', 'cold chills, muscular soreness',\n",
       "         'dry cough', 'fever', 'chest distress, cough, fatigue, fever',\n",
       "         'fatigue, shortness of breath', 'cough, fever, grasp, dyspnea',\n",
       "         'chest distress, cough, fever', 'fatigue', 'cough, fever, grasp',\n",
       "         'cough, fever, gasp', 'diarrhea, fever', 'chest distress, fever',\n",
       "         'chest distress, cough, fever, gasp',\n",
       "         'cough, fever, sensation of chill', 'dizziness, fever',\n",
       "         'cough, expectoration, fever',\n",
       "         'chest distress, chest pain, fever, weak, dyspnea',\n",
       "         'cough, fever, muscular soreness', 'fatigue, fever',\n",
       "         'cough, fever, dyspnea', 'primary myelofibrosis'],\n",
       "        dtype='object')),\n",
       " 'lives_in_wuhan': (array([-1, -1, -1, ..., -1, -1, -1]),\n",
       "  Index(['yes', 'no'], dtype='object')),\n",
       " 'additional_information': (array([-1, -1, -1, ..., -1, -1, -1]),\n",
       "  Index(['no underlying chronic medical conditions',\n",
       "         'Chronic diseases: hypertension, chronic obstructive pulmonary disease, diabetes, chronic renal insufficiency',\n",
       "         'Chronic diseases: diabetes, cerebral infarction',\n",
       "         'Chronic diseases: hypertension, diabetes, coronary heart disease, frequent ventricular premature beat (FVPB), coronary artery stenting',\n",
       "         'Chronic diseases: hypertension, cerebral infarction, encephalomalacia',\n",
       "         'Chronic diseases: hypertension, hip replacement',\n",
       "         'Parkinson's disease for five years, taking medicine of Madopar',\n",
       "         'Chronic diseases: hypertension for more than 20 years, diabetes for more than 20 years, Parkinson's disease',\n",
       "         'Chronic diseases: hypertension, diabetes, colon cancer surgery four years ago',\n",
       "         'Chronic diseases: chronic bronchitis, stenocardia, hypertension, coronary stenting, hemorrhage of digestive tract',\n",
       "         'the first reason for hospital admission was the ache of her right shoulder. Chronic diseases: hypertension, diabetes',\n",
       "         'Chronic disease: chronic bronchitis',\n",
       "         'Chronic diseases: hypertension, diabetes',\n",
       "         'Chronic diseases: diabetes', 'Chronic diseases: hypertension',\n",
       "         'Chronic disease: coronary heart disease',\n",
       "         'Chronic diseases: diabetes, coronary heart disease',\n",
       "         'Chronic diseases: hypertension, coronary heart disease, diabetes, Tuberculosis'],\n",
       "        dtype='object')),\n",
       " 'chronic_disease_binary': (array([-1, -1, -1, ..., -1, -1, -1]),\n",
       "  Float64Index([0.0, 1.0], dtype='float64')),\n",
       " 'chronic_disease': (array([-1, -1, -1, ..., -1, -1, -1]),\n",
       "  Index(['hypertension, chronic obstructive pulmonary disease, diabetes, chronic renal insufficiency',\n",
       "         'diabetes, cerebral infarction',\n",
       "         'hypertension, diabetes, coronary heart disease, frequent ventricular premature beat (FVPB), coronary artery stenting',\n",
       "         'hypertension, cerebral infarction, encephalomalacia',\n",
       "         'hypertension, hip replacement',\n",
       "         'Parkinson's disease for five years, taking medicine of Madopar',\n",
       "         'hypertension for more than 20 years, diabetes for more than 20 years, Parkinson's disease',\n",
       "         'hypertension, diabetes, colon cancer surgery four years ago',\n",
       "         'chronic bronchitis, stenocardia, hypertension, coronary stenting, hemorrhage of digestive tract',\n",
       "         'hypertension, diabetes', 'chronic bronchitis', 'diabetes',\n",
       "         'hypertension', 'coronary heart disease',\n",
       "         'diabetes, coronary heart disease',\n",
       "         'hypertension, coronary heart disease, diabetes, Tuberculosis'],\n",
       "        dtype='object')),\n",
       " 'source': (array([ 0,  0,  0, ..., 14, 14, 14]),\n",
       "  Index(['http://wjw.wuhan.gov.cn/front/web/showDetail/2020012109085',\n",
       "         'https://www.nejm.org/doi/full/10.1056/NEJMoa2001017',\n",
       "         'http://wjw.wuhan.gov.cn/front/web/showDetail/2020012009077',\n",
       "         'http://www.nhc.gov.cn/yjb/s3578/202001/5d19a4f6d3154b9fae328918ed2e3c8a.shtml',\n",
       "         'https://marlin-prod.literatumonline.com/pb-assets/Lancet/pdfs/S0140673620302117.pdf',\n",
       "         'https://mp.weixin.qq.com/s/dgkQzx5KxUDP1YTWjUpCEA',\n",
       "         'https://mp.weixin.qq.com/s/fC1xJFrHDDzJ5uTm_SOsqg',\n",
       "         'http://3g.dxy.cn/newh5/view/pneumonia',\n",
       "         'https://news.163.com/special/epidemic/?spssid=7283291fcdba1d8c2d13ee3da2cfb760&spsw=7&spss=other',\n",
       "         'http://news.163.com/special/epidemic/?spssid=7283291fcdba1d8c2d13ee3da2cfb760&spsw=7&spss=other#map_block',\n",
       "         'http://wjw.hubei.gov.cn/bmdt/ztzl/fkxxgzbdgrfyyq/xxfb/202001/t20200130_2016305.shtml',\n",
       "         'http://wjw.hubei.gov.cn/fbjd/dtyw/202001/t20200131_2016680.shtml',\n",
       "         'http://wjw.hubei.gov.cn/fbjd/dtyw/202002/t20200201_2017100.shtml',\n",
       "         'http://wjw.hubei.gov.cn/fbjd/dtyw/202002/t20200202_2017658.shtml',\n",
       "         'http://wjw.hubei.gov.cn/fbjd/dtyw/202002/t20200204_2018742.shtml'],\n",
       "        dtype='object')),\n",
       " 'outcome': (array([0, 0, 0, ..., 0, 0, 0]),\n",
       "  Index(['discharged', 'died'], dtype='object')),\n",
       " 'admin3': (array([-1, -1, -1, ...,  4,  4,  4]),\n",
       "  Index(['Xiantao City', 'Yuan'an County', 'Tianmen City', 'Qianjiang City',\n",
       "         'Shennongjia Forest District'],\n",
       "        dtype='object')),\n",
       " 'admin2': (array([ 0,  0,  0, ..., -1, -1, -1]),\n",
       "  Index(['Wuhan City', 'Xiaogan City', 'Huanggang City', 'Jingzhou City',\n",
       "         'Jingmen City', 'Yichang City', 'Shiyan City', 'Enshi Prefecture',\n",
       "         'Suizhou City', 'Ezhou City', 'Xiangyang City', 'Xianning City',\n",
       "         'Huangshi City'],\n",
       "        dtype='object'))}"
      ]
     },
     "execution_count": 24,
     "metadata": {},
     "output_type": "execute_result"
    }
   ],
   "source": [
    "dic_correspont={} # Stocker les indice correspondants apres factorize\n",
    "for index,row in data.iteritems():\n",
    "    if (index != 'age') & (data[index].dtype != int):\n",
    "        dic_correspont[index] = pd.factorize(data[index]) \n",
    "        data[index] = dic_correspont[index][0]\n",
    "dic_correspont"
   ]
  },
  {
   "cell_type": "markdown",
   "metadata": {},
   "source": [
    "<h5 style = \"color: #38B0DE\">Etape 7 : Après on remplace tous les valeurs manquantes par le mode.</h5>"
   ]
  },
  {
   "cell_type": "code",
   "execution_count": 25,
   "metadata": {},
   "outputs": [],
   "source": [
    "for index,row in data.iteritems():\n",
    "    if (data[index].isin([-1]).any() == True):\n",
    "        data.loc[np.where(data[index] == -1)[0],index] = data.loc[np.where(data[index] != -1)[0],index].mode()[0]"
   ]
  },
  {
   "cell_type": "code",
   "execution_count": 26,
   "metadata": {},
   "outputs": [
    {
     "data": {
      "text/html": [
       "<div>\n",
       "<style scoped>\n",
       "    .dataframe tbody tr th:only-of-type {\n",
       "        vertical-align: middle;\n",
       "    }\n",
       "\n",
       "    .dataframe tbody tr th {\n",
       "        vertical-align: top;\n",
       "    }\n",
       "\n",
       "    .dataframe thead th {\n",
       "        text-align: right;\n",
       "    }\n",
       "</style>\n",
       "<table border=\"1\" class=\"dataframe\">\n",
       "  <thead>\n",
       "    <tr style=\"text-align: right;\">\n",
       "      <th></th>\n",
       "      <th>id</th>\n",
       "      <th>age</th>\n",
       "      <th>sex</th>\n",
       "      <th>city</th>\n",
       "      <th>latitude</th>\n",
       "      <th>longitude</th>\n",
       "      <th>date_onset_symptoms</th>\n",
       "      <th>date_admission_hospital</th>\n",
       "      <th>date_confirmation</th>\n",
       "      <th>symptoms</th>\n",
       "      <th>lives_in_wuhan</th>\n",
       "      <th>additional_information</th>\n",
       "      <th>chronic_disease_binary</th>\n",
       "      <th>chronic_disease</th>\n",
       "      <th>source</th>\n",
       "      <th>outcome</th>\n",
       "      <th>date_death_or_discharge</th>\n",
       "      <th>admin3</th>\n",
       "      <th>admin2</th>\n",
       "      <th>admin_id</th>\n",
       "    </tr>\n",
       "  </thead>\n",
       "  <tbody>\n",
       "    <tr>\n",
       "      <th>0</th>\n",
       "      <td>1</td>\n",
       "      <td>51.500000</td>\n",
       "      <td>0</td>\n",
       "      <td>0</td>\n",
       "      <td>0</td>\n",
       "      <td>0</td>\n",
       "      <td>39</td>\n",
       "      <td>39</td>\n",
       "      <td>41</td>\n",
       "      <td>5</td>\n",
       "      <td>0</td>\n",
       "      <td>14</td>\n",
       "      <td>1</td>\n",
       "      <td>9</td>\n",
       "      <td>0</td>\n",
       "      <td>0</td>\n",
       "      <td>42</td>\n",
       "      <td>0</td>\n",
       "      <td>0</td>\n",
       "      <td>420100</td>\n",
       "    </tr>\n",
       "    <tr>\n",
       "      <th>1</th>\n",
       "      <td>2</td>\n",
       "      <td>51.500000</td>\n",
       "      <td>0</td>\n",
       "      <td>0</td>\n",
       "      <td>0</td>\n",
       "      <td>0</td>\n",
       "      <td>39</td>\n",
       "      <td>39</td>\n",
       "      <td>41</td>\n",
       "      <td>5</td>\n",
       "      <td>0</td>\n",
       "      <td>14</td>\n",
       "      <td>1</td>\n",
       "      <td>9</td>\n",
       "      <td>0</td>\n",
       "      <td>0</td>\n",
       "      <td>42</td>\n",
       "      <td>0</td>\n",
       "      <td>0</td>\n",
       "      <td>420100</td>\n",
       "    </tr>\n",
       "    <tr>\n",
       "      <th>2</th>\n",
       "      <td>3</td>\n",
       "      <td>51.500000</td>\n",
       "      <td>0</td>\n",
       "      <td>0</td>\n",
       "      <td>0</td>\n",
       "      <td>0</td>\n",
       "      <td>39</td>\n",
       "      <td>39</td>\n",
       "      <td>41</td>\n",
       "      <td>5</td>\n",
       "      <td>0</td>\n",
       "      <td>14</td>\n",
       "      <td>1</td>\n",
       "      <td>9</td>\n",
       "      <td>0</td>\n",
       "      <td>0</td>\n",
       "      <td>42</td>\n",
       "      <td>0</td>\n",
       "      <td>0</td>\n",
       "      <td>420100</td>\n",
       "    </tr>\n",
       "    <tr>\n",
       "      <th>3</th>\n",
       "      <td>4</td>\n",
       "      <td>51.500000</td>\n",
       "      <td>0</td>\n",
       "      <td>0</td>\n",
       "      <td>0</td>\n",
       "      <td>0</td>\n",
       "      <td>39</td>\n",
       "      <td>39</td>\n",
       "      <td>41</td>\n",
       "      <td>5</td>\n",
       "      <td>0</td>\n",
       "      <td>14</td>\n",
       "      <td>1</td>\n",
       "      <td>9</td>\n",
       "      <td>0</td>\n",
       "      <td>0</td>\n",
       "      <td>42</td>\n",
       "      <td>0</td>\n",
       "      <td>0</td>\n",
       "      <td>420100</td>\n",
       "    </tr>\n",
       "    <tr>\n",
       "      <th>4</th>\n",
       "      <td>5</td>\n",
       "      <td>51.500000</td>\n",
       "      <td>0</td>\n",
       "      <td>0</td>\n",
       "      <td>0</td>\n",
       "      <td>0</td>\n",
       "      <td>39</td>\n",
       "      <td>39</td>\n",
       "      <td>41</td>\n",
       "      <td>5</td>\n",
       "      <td>0</td>\n",
       "      <td>14</td>\n",
       "      <td>1</td>\n",
       "      <td>9</td>\n",
       "      <td>0</td>\n",
       "      <td>0</td>\n",
       "      <td>42</td>\n",
       "      <td>0</td>\n",
       "      <td>0</td>\n",
       "      <td>420100</td>\n",
       "    </tr>\n",
       "    <tr>\n",
       "      <th>...</th>\n",
       "      <td>...</td>\n",
       "      <td>...</td>\n",
       "      <td>...</td>\n",
       "      <td>...</td>\n",
       "      <td>...</td>\n",
       "      <td>...</td>\n",
       "      <td>...</td>\n",
       "      <td>...</td>\n",
       "      <td>...</td>\n",
       "      <td>...</td>\n",
       "      <td>...</td>\n",
       "      <td>...</td>\n",
       "      <td>...</td>\n",
       "      <td>...</td>\n",
       "      <td>...</td>\n",
       "      <td>...</td>\n",
       "      <td>...</td>\n",
       "      <td>...</td>\n",
       "      <td>...</td>\n",
       "      <td>...</td>\n",
       "    </tr>\n",
       "    <tr>\n",
       "      <th>10130</th>\n",
       "      <td>14725</td>\n",
       "      <td>57.110638</td>\n",
       "      <td>0</td>\n",
       "      <td>16</td>\n",
       "      <td>15</td>\n",
       "      <td>15</td>\n",
       "      <td>39</td>\n",
       "      <td>39</td>\n",
       "      <td>55</td>\n",
       "      <td>5</td>\n",
       "      <td>0</td>\n",
       "      <td>14</td>\n",
       "      <td>1</td>\n",
       "      <td>9</td>\n",
       "      <td>14</td>\n",
       "      <td>0</td>\n",
       "      <td>42</td>\n",
       "      <td>3</td>\n",
       "      <td>0</td>\n",
       "      <td>429005</td>\n",
       "    </tr>\n",
       "    <tr>\n",
       "      <th>10131</th>\n",
       "      <td>14726</td>\n",
       "      <td>57.110638</td>\n",
       "      <td>0</td>\n",
       "      <td>16</td>\n",
       "      <td>15</td>\n",
       "      <td>15</td>\n",
       "      <td>39</td>\n",
       "      <td>39</td>\n",
       "      <td>55</td>\n",
       "      <td>5</td>\n",
       "      <td>0</td>\n",
       "      <td>14</td>\n",
       "      <td>1</td>\n",
       "      <td>9</td>\n",
       "      <td>14</td>\n",
       "      <td>0</td>\n",
       "      <td>42</td>\n",
       "      <td>3</td>\n",
       "      <td>0</td>\n",
       "      <td>429005</td>\n",
       "    </tr>\n",
       "    <tr>\n",
       "      <th>10132</th>\n",
       "      <td>14727</td>\n",
       "      <td>57.110638</td>\n",
       "      <td>0</td>\n",
       "      <td>17</td>\n",
       "      <td>16</td>\n",
       "      <td>16</td>\n",
       "      <td>39</td>\n",
       "      <td>39</td>\n",
       "      <td>55</td>\n",
       "      <td>5</td>\n",
       "      <td>0</td>\n",
       "      <td>14</td>\n",
       "      <td>1</td>\n",
       "      <td>9</td>\n",
       "      <td>14</td>\n",
       "      <td>0</td>\n",
       "      <td>42</td>\n",
       "      <td>4</td>\n",
       "      <td>0</td>\n",
       "      <td>429021</td>\n",
       "    </tr>\n",
       "    <tr>\n",
       "      <th>10133</th>\n",
       "      <td>14728</td>\n",
       "      <td>57.110638</td>\n",
       "      <td>0</td>\n",
       "      <td>17</td>\n",
       "      <td>16</td>\n",
       "      <td>16</td>\n",
       "      <td>39</td>\n",
       "      <td>39</td>\n",
       "      <td>55</td>\n",
       "      <td>5</td>\n",
       "      <td>0</td>\n",
       "      <td>14</td>\n",
       "      <td>1</td>\n",
       "      <td>9</td>\n",
       "      <td>14</td>\n",
       "      <td>0</td>\n",
       "      <td>42</td>\n",
       "      <td>4</td>\n",
       "      <td>0</td>\n",
       "      <td>429021</td>\n",
       "    </tr>\n",
       "    <tr>\n",
       "      <th>10134</th>\n",
       "      <td>14729</td>\n",
       "      <td>57.110638</td>\n",
       "      <td>0</td>\n",
       "      <td>17</td>\n",
       "      <td>16</td>\n",
       "      <td>16</td>\n",
       "      <td>39</td>\n",
       "      <td>39</td>\n",
       "      <td>55</td>\n",
       "      <td>5</td>\n",
       "      <td>0</td>\n",
       "      <td>14</td>\n",
       "      <td>1</td>\n",
       "      <td>9</td>\n",
       "      <td>14</td>\n",
       "      <td>0</td>\n",
       "      <td>42</td>\n",
       "      <td>4</td>\n",
       "      <td>0</td>\n",
       "      <td>429021</td>\n",
       "    </tr>\n",
       "  </tbody>\n",
       "</table>\n",
       "<p>10135 rows × 20 columns</p>\n",
       "</div>"
      ],
      "text/plain": [
       "          id        age  sex  city  latitude  longitude  date_onset_symptoms  \\\n",
       "0          1  51.500000    0     0         0          0                   39   \n",
       "1          2  51.500000    0     0         0          0                   39   \n",
       "2          3  51.500000    0     0         0          0                   39   \n",
       "3          4  51.500000    0     0         0          0                   39   \n",
       "4          5  51.500000    0     0         0          0                   39   \n",
       "...      ...        ...  ...   ...       ...        ...                  ...   \n",
       "10130  14725  57.110638    0    16        15         15                   39   \n",
       "10131  14726  57.110638    0    16        15         15                   39   \n",
       "10132  14727  57.110638    0    17        16         16                   39   \n",
       "10133  14728  57.110638    0    17        16         16                   39   \n",
       "10134  14729  57.110638    0    17        16         16                   39   \n",
       "\n",
       "       date_admission_hospital  date_confirmation  symptoms  lives_in_wuhan  \\\n",
       "0                           39                 41         5               0   \n",
       "1                           39                 41         5               0   \n",
       "2                           39                 41         5               0   \n",
       "3                           39                 41         5               0   \n",
       "4                           39                 41         5               0   \n",
       "...                        ...                ...       ...             ...   \n",
       "10130                       39                 55         5               0   \n",
       "10131                       39                 55         5               0   \n",
       "10132                       39                 55         5               0   \n",
       "10133                       39                 55         5               0   \n",
       "10134                       39                 55         5               0   \n",
       "\n",
       "       additional_information  chronic_disease_binary  chronic_disease  \\\n",
       "0                          14                       1                9   \n",
       "1                          14                       1                9   \n",
       "2                          14                       1                9   \n",
       "3                          14                       1                9   \n",
       "4                          14                       1                9   \n",
       "...                       ...                     ...              ...   \n",
       "10130                      14                       1                9   \n",
       "10131                      14                       1                9   \n",
       "10132                      14                       1                9   \n",
       "10133                      14                       1                9   \n",
       "10134                      14                       1                9   \n",
       "\n",
       "       source  outcome  date_death_or_discharge  admin3  admin2  admin_id  \n",
       "0           0        0                       42       0       0    420100  \n",
       "1           0        0                       42       0       0    420100  \n",
       "2           0        0                       42       0       0    420100  \n",
       "3           0        0                       42       0       0    420100  \n",
       "4           0        0                       42       0       0    420100  \n",
       "...       ...      ...                      ...     ...     ...       ...  \n",
       "10130      14        0                       42       3       0    429005  \n",
       "10131      14        0                       42       3       0    429005  \n",
       "10132      14        0                       42       4       0    429021  \n",
       "10133      14        0                       42       4       0    429021  \n",
       "10134      14        0                       42       4       0    429021  \n",
       "\n",
       "[10135 rows x 20 columns]"
      ]
     },
     "execution_count": 26,
     "metadata": {},
     "output_type": "execute_result"
    }
   ],
   "source": [
    "data"
   ]
  },
  {
   "cell_type": "markdown",
   "metadata": {},
   "source": [
    "<h4>1. Calculez les corrélations entre les variables. Quelles sont variables les plus corrélées avec la cible (‘result’)? Expliquez les résultats.</h4>"
   ]
  },
  {
   "cell_type": "code",
   "execution_count": 27,
   "metadata": {},
   "outputs": [],
   "source": [
    "correlation = data.corr(method='pearson')"
   ]
  },
  {
   "cell_type": "code",
   "execution_count": 28,
   "metadata": {},
   "outputs": [
    {
     "data": {
      "text/html": [
       "<div>\n",
       "<style scoped>\n",
       "    .dataframe tbody tr th:only-of-type {\n",
       "        vertical-align: middle;\n",
       "    }\n",
       "\n",
       "    .dataframe tbody tr th {\n",
       "        vertical-align: top;\n",
       "    }\n",
       "\n",
       "    .dataframe thead th {\n",
       "        text-align: right;\n",
       "    }\n",
       "</style>\n",
       "<table border=\"1\" class=\"dataframe\">\n",
       "  <thead>\n",
       "    <tr style=\"text-align: right;\">\n",
       "      <th></th>\n",
       "      <th>id</th>\n",
       "      <th>age</th>\n",
       "      <th>sex</th>\n",
       "      <th>city</th>\n",
       "      <th>latitude</th>\n",
       "      <th>longitude</th>\n",
       "      <th>date_onset_symptoms</th>\n",
       "      <th>date_admission_hospital</th>\n",
       "      <th>date_confirmation</th>\n",
       "      <th>symptoms</th>\n",
       "      <th>lives_in_wuhan</th>\n",
       "      <th>additional_information</th>\n",
       "      <th>chronic_disease_binary</th>\n",
       "      <th>chronic_disease</th>\n",
       "      <th>source</th>\n",
       "      <th>outcome</th>\n",
       "      <th>date_death_or_discharge</th>\n",
       "      <th>admin3</th>\n",
       "      <th>admin2</th>\n",
       "      <th>admin_id</th>\n",
       "    </tr>\n",
       "  </thead>\n",
       "  <tbody>\n",
       "    <tr>\n",
       "      <th>id</th>\n",
       "      <td>1.000000</td>\n",
       "      <td>0.001000</td>\n",
       "      <td>-0.082674</td>\n",
       "      <td>0.034919</td>\n",
       "      <td>0.040343</td>\n",
       "      <td>0.040343</td>\n",
       "      <td>0.006327</td>\n",
       "      <td>0.054415</td>\n",
       "      <td>0.648288</td>\n",
       "      <td>-0.055153</td>\n",
       "      <td>-0.012221</td>\n",
       "      <td>0.042729</td>\n",
       "      <td>0.013346</td>\n",
       "      <td>0.011852</td>\n",
       "      <td>0.850275</td>\n",
       "      <td>-0.082787</td>\n",
       "      <td>-0.004845</td>\n",
       "      <td>0.002975</td>\n",
       "      <td>0.043896</td>\n",
       "      <td>0.038485</td>\n",
       "    </tr>\n",
       "    <tr>\n",
       "      <th>age</th>\n",
       "      <td>0.001000</td>\n",
       "      <td>1.000000</td>\n",
       "      <td>0.018261</td>\n",
       "      <td>0.000521</td>\n",
       "      <td>0.000578</td>\n",
       "      <td>0.000578</td>\n",
       "      <td>0.082655</td>\n",
       "      <td>-0.097302</td>\n",
       "      <td>0.131672</td>\n",
       "      <td>0.290943</td>\n",
       "      <td>0.043413</td>\n",
       "      <td>-0.260170</td>\n",
       "      <td>0.044631</td>\n",
       "      <td>-0.085586</td>\n",
       "      <td>0.029199</td>\n",
       "      <td>0.469061</td>\n",
       "      <td>0.121319</td>\n",
       "      <td>0.001558</td>\n",
       "      <td>0.000580</td>\n",
       "      <td>0.000129</td>\n",
       "    </tr>\n",
       "    <tr>\n",
       "      <th>sex</th>\n",
       "      <td>-0.082674</td>\n",
       "      <td>0.018261</td>\n",
       "      <td>1.000000</td>\n",
       "      <td>-0.042154</td>\n",
       "      <td>-0.042143</td>\n",
       "      <td>-0.042143</td>\n",
       "      <td>0.077201</td>\n",
       "      <td>-0.261826</td>\n",
       "      <td>-0.156484</td>\n",
       "      <td>0.234248</td>\n",
       "      <td>0.159828</td>\n",
       "      <td>-0.231728</td>\n",
       "      <td>-0.159828</td>\n",
       "      <td>-0.072127</td>\n",
       "      <td>-0.242240</td>\n",
       "      <td>0.326516</td>\n",
       "      <td>0.068736</td>\n",
       "      <td>-0.001066</td>\n",
       "      <td>-0.041411</td>\n",
       "      <td>-0.025785</td>\n",
       "    </tr>\n",
       "    <tr>\n",
       "      <th>city</th>\n",
       "      <td>0.034919</td>\n",
       "      <td>0.000521</td>\n",
       "      <td>-0.042154</td>\n",
       "      <td>1.000000</td>\n",
       "      <td>0.963200</td>\n",
       "      <td>0.963200</td>\n",
       "      <td>0.003270</td>\n",
       "      <td>0.028252</td>\n",
       "      <td>0.012966</td>\n",
       "      <td>-0.025935</td>\n",
       "      <td>0.004946</td>\n",
       "      <td>0.022708</td>\n",
       "      <td>0.007045</td>\n",
       "      <td>0.006026</td>\n",
       "      <td>0.059998</td>\n",
       "      <td>-0.042742</td>\n",
       "      <td>-0.001741</td>\n",
       "      <td>0.207687</td>\n",
       "      <td>0.911306</td>\n",
       "      <td>0.295175</td>\n",
       "    </tr>\n",
       "    <tr>\n",
       "      <th>latitude</th>\n",
       "      <td>0.040343</td>\n",
       "      <td>0.000578</td>\n",
       "      <td>-0.042143</td>\n",
       "      <td>0.963200</td>\n",
       "      <td>1.000000</td>\n",
       "      <td>1.000000</td>\n",
       "      <td>0.003284</td>\n",
       "      <td>0.028294</td>\n",
       "      <td>0.014273</td>\n",
       "      <td>-0.025620</td>\n",
       "      <td>0.006230</td>\n",
       "      <td>0.022811</td>\n",
       "      <td>0.007077</td>\n",
       "      <td>0.006053</td>\n",
       "      <td>0.057961</td>\n",
       "      <td>-0.042736</td>\n",
       "      <td>-0.001613</td>\n",
       "      <td>0.226961</td>\n",
       "      <td>0.943712</td>\n",
       "      <td>0.330603</td>\n",
       "    </tr>\n",
       "    <tr>\n",
       "      <th>longitude</th>\n",
       "      <td>0.040343</td>\n",
       "      <td>0.000578</td>\n",
       "      <td>-0.042143</td>\n",
       "      <td>0.963200</td>\n",
       "      <td>1.000000</td>\n",
       "      <td>1.000000</td>\n",
       "      <td>0.003284</td>\n",
       "      <td>0.028294</td>\n",
       "      <td>0.014273</td>\n",
       "      <td>-0.025620</td>\n",
       "      <td>0.006230</td>\n",
       "      <td>0.022811</td>\n",
       "      <td>0.007077</td>\n",
       "      <td>0.006053</td>\n",
       "      <td>0.057961</td>\n",
       "      <td>-0.042736</td>\n",
       "      <td>-0.001613</td>\n",
       "      <td>0.226961</td>\n",
       "      <td>0.943712</td>\n",
       "      <td>0.330603</td>\n",
       "    </tr>\n",
       "    <tr>\n",
       "      <th>date_onset_symptoms</th>\n",
       "      <td>0.006327</td>\n",
       "      <td>0.082655</td>\n",
       "      <td>0.077201</td>\n",
       "      <td>0.003270</td>\n",
       "      <td>0.003284</td>\n",
       "      <td>0.003284</td>\n",
       "      <td>1.000000</td>\n",
       "      <td>0.250733</td>\n",
       "      <td>-0.002796</td>\n",
       "      <td>-0.114612</td>\n",
       "      <td>0.000046</td>\n",
       "      <td>0.151662</td>\n",
       "      <td>0.079351</td>\n",
       "      <td>0.070792</td>\n",
       "      <td>0.025445</td>\n",
       "      <td>-0.060664</td>\n",
       "      <td>0.056491</td>\n",
       "      <td>0.000506</td>\n",
       "      <td>0.003231</td>\n",
       "      <td>0.001948</td>\n",
       "    </tr>\n",
       "    <tr>\n",
       "      <th>date_admission_hospital</th>\n",
       "      <td>0.054415</td>\n",
       "      <td>-0.097302</td>\n",
       "      <td>-0.261826</td>\n",
       "      <td>0.028252</td>\n",
       "      <td>0.028294</td>\n",
       "      <td>0.028294</td>\n",
       "      <td>0.250733</td>\n",
       "      <td>1.000000</td>\n",
       "      <td>-0.036565</td>\n",
       "      <td>-0.281187</td>\n",
       "      <td>-0.067688</td>\n",
       "      <td>0.526313</td>\n",
       "      <td>0.299213</td>\n",
       "      <td>0.340217</td>\n",
       "      <td>0.137109</td>\n",
       "      <td>-0.556219</td>\n",
       "      <td>0.380887</td>\n",
       "      <td>0.002056</td>\n",
       "      <td>0.027814</td>\n",
       "      <td>0.017117</td>\n",
       "    </tr>\n",
       "    <tr>\n",
       "      <th>date_confirmation</th>\n",
       "      <td>0.648288</td>\n",
       "      <td>0.131672</td>\n",
       "      <td>-0.156484</td>\n",
       "      <td>0.012966</td>\n",
       "      <td>0.014273</td>\n",
       "      <td>0.014273</td>\n",
       "      <td>-0.002796</td>\n",
       "      <td>-0.036565</td>\n",
       "      <td>1.000000</td>\n",
       "      <td>0.010236</td>\n",
       "      <td>-0.028626</td>\n",
       "      <td>-0.002789</td>\n",
       "      <td>-0.010153</td>\n",
       "      <td>0.018632</td>\n",
       "      <td>0.663771</td>\n",
       "      <td>0.033622</td>\n",
       "      <td>0.000955</td>\n",
       "      <td>-0.012897</td>\n",
       "      <td>0.022403</td>\n",
       "      <td>0.034009</td>\n",
       "    </tr>\n",
       "    <tr>\n",
       "      <th>symptoms</th>\n",
       "      <td>-0.055153</td>\n",
       "      <td>0.290943</td>\n",
       "      <td>0.234248</td>\n",
       "      <td>-0.025935</td>\n",
       "      <td>-0.025620</td>\n",
       "      <td>-0.025620</td>\n",
       "      <td>-0.114612</td>\n",
       "      <td>-0.281187</td>\n",
       "      <td>0.010236</td>\n",
       "      <td>1.000000</td>\n",
       "      <td>0.342615</td>\n",
       "      <td>-0.079075</td>\n",
       "      <td>0.074994</td>\n",
       "      <td>0.189467</td>\n",
       "      <td>-0.104339</td>\n",
       "      <td>0.684895</td>\n",
       "      <td>0.389485</td>\n",
       "      <td>0.007657</td>\n",
       "      <td>-0.025107</td>\n",
       "      <td>-0.016885</td>\n",
       "    </tr>\n",
       "    <tr>\n",
       "      <th>lives_in_wuhan</th>\n",
       "      <td>-0.012221</td>\n",
       "      <td>0.043413</td>\n",
       "      <td>0.159828</td>\n",
       "      <td>0.004946</td>\n",
       "      <td>0.006230</td>\n",
       "      <td>0.006230</td>\n",
       "      <td>0.000046</td>\n",
       "      <td>-0.067688</td>\n",
       "      <td>-0.028626</td>\n",
       "      <td>0.342615</td>\n",
       "      <td>1.000000</td>\n",
       "      <td>0.000318</td>\n",
       "      <td>0.000099</td>\n",
       "      <td>0.000084</td>\n",
       "      <td>-0.020815</td>\n",
       "      <td>0.157809</td>\n",
       "      <td>0.107485</td>\n",
       "      <td>0.034794</td>\n",
       "      <td>0.006402</td>\n",
       "      <td>-0.001234</td>\n",
       "    </tr>\n",
       "    <tr>\n",
       "      <th>additional_information</th>\n",
       "      <td>0.042729</td>\n",
       "      <td>-0.260170</td>\n",
       "      <td>-0.231728</td>\n",
       "      <td>0.022708</td>\n",
       "      <td>0.022811</td>\n",
       "      <td>0.022811</td>\n",
       "      <td>0.151662</td>\n",
       "      <td>0.526313</td>\n",
       "      <td>-0.002789</td>\n",
       "      <td>-0.079075</td>\n",
       "      <td>0.000318</td>\n",
       "      <td>1.000000</td>\n",
       "      <td>0.433630</td>\n",
       "      <td>0.762359</td>\n",
       "      <td>0.116813</td>\n",
       "      <td>-0.439921</td>\n",
       "      <td>0.173433</td>\n",
       "      <td>0.003515</td>\n",
       "      <td>0.022438</td>\n",
       "      <td>0.013529</td>\n",
       "    </tr>\n",
       "    <tr>\n",
       "      <th>chronic_disease_binary</th>\n",
       "      <td>0.013346</td>\n",
       "      <td>0.044631</td>\n",
       "      <td>-0.159828</td>\n",
       "      <td>0.007045</td>\n",
       "      <td>0.007077</td>\n",
       "      <td>0.007077</td>\n",
       "      <td>0.079351</td>\n",
       "      <td>0.299213</td>\n",
       "      <td>-0.010153</td>\n",
       "      <td>0.074994</td>\n",
       "      <td>0.000099</td>\n",
       "      <td>0.433630</td>\n",
       "      <td>1.000000</td>\n",
       "      <td>-0.000084</td>\n",
       "      <td>0.040426</td>\n",
       "      <td>0.000625</td>\n",
       "      <td>0.268860</td>\n",
       "      <td>0.001091</td>\n",
       "      <td>0.006961</td>\n",
       "      <td>0.004197</td>\n",
       "    </tr>\n",
       "    <tr>\n",
       "      <th>chronic_disease</th>\n",
       "      <td>0.011852</td>\n",
       "      <td>-0.085586</td>\n",
       "      <td>-0.072127</td>\n",
       "      <td>0.006026</td>\n",
       "      <td>0.006053</td>\n",
       "      <td>0.006053</td>\n",
       "      <td>0.070792</td>\n",
       "      <td>0.340217</td>\n",
       "      <td>0.018632</td>\n",
       "      <td>0.189467</td>\n",
       "      <td>0.000084</td>\n",
       "      <td>0.762359</td>\n",
       "      <td>-0.000084</td>\n",
       "      <td>1.000000</td>\n",
       "      <td>0.051156</td>\n",
       "      <td>-0.134982</td>\n",
       "      <td>0.248905</td>\n",
       "      <td>0.000933</td>\n",
       "      <td>0.005954</td>\n",
       "      <td>0.003590</td>\n",
       "    </tr>\n",
       "    <tr>\n",
       "      <th>source</th>\n",
       "      <td>0.850275</td>\n",
       "      <td>0.029199</td>\n",
       "      <td>-0.242240</td>\n",
       "      <td>0.059998</td>\n",
       "      <td>0.057961</td>\n",
       "      <td>0.057961</td>\n",
       "      <td>0.025445</td>\n",
       "      <td>0.137109</td>\n",
       "      <td>0.663771</td>\n",
       "      <td>-0.104339</td>\n",
       "      <td>-0.020815</td>\n",
       "      <td>0.116813</td>\n",
       "      <td>0.040426</td>\n",
       "      <td>0.051156</td>\n",
       "      <td>1.000000</td>\n",
       "      <td>-0.182230</td>\n",
       "      <td>0.015929</td>\n",
       "      <td>0.004432</td>\n",
       "      <td>0.059087</td>\n",
       "      <td>0.035153</td>\n",
       "    </tr>\n",
       "    <tr>\n",
       "      <th>outcome</th>\n",
       "      <td>-0.082787</td>\n",
       "      <td>0.469061</td>\n",
       "      <td>0.326516</td>\n",
       "      <td>-0.042742</td>\n",
       "      <td>-0.042736</td>\n",
       "      <td>-0.042736</td>\n",
       "      <td>-0.060664</td>\n",
       "      <td>-0.556219</td>\n",
       "      <td>0.033622</td>\n",
       "      <td>0.684895</td>\n",
       "      <td>0.157809</td>\n",
       "      <td>-0.439921</td>\n",
       "      <td>0.000625</td>\n",
       "      <td>-0.134982</td>\n",
       "      <td>-0.182230</td>\n",
       "      <td>1.000000</td>\n",
       "      <td>0.153040</td>\n",
       "      <td>-0.001226</td>\n",
       "      <td>-0.041995</td>\n",
       "      <td>-0.026127</td>\n",
       "    </tr>\n",
       "    <tr>\n",
       "      <th>date_death_or_discharge</th>\n",
       "      <td>-0.004845</td>\n",
       "      <td>0.121319</td>\n",
       "      <td>0.068736</td>\n",
       "      <td>-0.001741</td>\n",
       "      <td>-0.001613</td>\n",
       "      <td>-0.001613</td>\n",
       "      <td>0.056491</td>\n",
       "      <td>0.380887</td>\n",
       "      <td>0.000955</td>\n",
       "      <td>0.389485</td>\n",
       "      <td>0.107485</td>\n",
       "      <td>0.173433</td>\n",
       "      <td>0.268860</td>\n",
       "      <td>0.248905</td>\n",
       "      <td>0.015929</td>\n",
       "      <td>0.153040</td>\n",
       "      <td>1.000000</td>\n",
       "      <td>0.003389</td>\n",
       "      <td>-0.001557</td>\n",
       "      <td>-0.001487</td>\n",
       "    </tr>\n",
       "    <tr>\n",
       "      <th>admin3</th>\n",
       "      <td>0.002975</td>\n",
       "      <td>0.001558</td>\n",
       "      <td>-0.001066</td>\n",
       "      <td>0.207687</td>\n",
       "      <td>0.226961</td>\n",
       "      <td>0.226961</td>\n",
       "      <td>0.000506</td>\n",
       "      <td>0.002056</td>\n",
       "      <td>-0.012897</td>\n",
       "      <td>0.007657</td>\n",
       "      <td>0.034794</td>\n",
       "      <td>0.003515</td>\n",
       "      <td>0.001091</td>\n",
       "      <td>0.000933</td>\n",
       "      <td>0.004432</td>\n",
       "      <td>-0.001226</td>\n",
       "      <td>0.003389</td>\n",
       "      <td>1.000000</td>\n",
       "      <td>-0.076453</td>\n",
       "      <td>0.637697</td>\n",
       "    </tr>\n",
       "    <tr>\n",
       "      <th>admin2</th>\n",
       "      <td>0.043896</td>\n",
       "      <td>0.000580</td>\n",
       "      <td>-0.041411</td>\n",
       "      <td>0.911306</td>\n",
       "      <td>0.943712</td>\n",
       "      <td>0.943712</td>\n",
       "      <td>0.003231</td>\n",
       "      <td>0.027814</td>\n",
       "      <td>0.022403</td>\n",
       "      <td>-0.025107</td>\n",
       "      <td>0.006402</td>\n",
       "      <td>0.022438</td>\n",
       "      <td>0.006961</td>\n",
       "      <td>0.005954</td>\n",
       "      <td>0.059087</td>\n",
       "      <td>-0.041995</td>\n",
       "      <td>-0.001557</td>\n",
       "      <td>-0.076453</td>\n",
       "      <td>1.000000</td>\n",
       "      <td>0.060060</td>\n",
       "    </tr>\n",
       "    <tr>\n",
       "      <th>admin_id</th>\n",
       "      <td>0.038485</td>\n",
       "      <td>0.000129</td>\n",
       "      <td>-0.025785</td>\n",
       "      <td>0.295175</td>\n",
       "      <td>0.330603</td>\n",
       "      <td>0.330603</td>\n",
       "      <td>0.001948</td>\n",
       "      <td>0.017117</td>\n",
       "      <td>0.034009</td>\n",
       "      <td>-0.016885</td>\n",
       "      <td>-0.001234</td>\n",
       "      <td>0.013529</td>\n",
       "      <td>0.004197</td>\n",
       "      <td>0.003590</td>\n",
       "      <td>0.035153</td>\n",
       "      <td>-0.026127</td>\n",
       "      <td>-0.001487</td>\n",
       "      <td>0.637697</td>\n",
       "      <td>0.060060</td>\n",
       "      <td>1.000000</td>\n",
       "    </tr>\n",
       "  </tbody>\n",
       "</table>\n",
       "</div>"
      ],
      "text/plain": [
       "                               id       age       sex      city  latitude  \\\n",
       "id                       1.000000  0.001000 -0.082674  0.034919  0.040343   \n",
       "age                      0.001000  1.000000  0.018261  0.000521  0.000578   \n",
       "sex                     -0.082674  0.018261  1.000000 -0.042154 -0.042143   \n",
       "city                     0.034919  0.000521 -0.042154  1.000000  0.963200   \n",
       "latitude                 0.040343  0.000578 -0.042143  0.963200  1.000000   \n",
       "longitude                0.040343  0.000578 -0.042143  0.963200  1.000000   \n",
       "date_onset_symptoms      0.006327  0.082655  0.077201  0.003270  0.003284   \n",
       "date_admission_hospital  0.054415 -0.097302 -0.261826  0.028252  0.028294   \n",
       "date_confirmation        0.648288  0.131672 -0.156484  0.012966  0.014273   \n",
       "symptoms                -0.055153  0.290943  0.234248 -0.025935 -0.025620   \n",
       "lives_in_wuhan          -0.012221  0.043413  0.159828  0.004946  0.006230   \n",
       "additional_information   0.042729 -0.260170 -0.231728  0.022708  0.022811   \n",
       "chronic_disease_binary   0.013346  0.044631 -0.159828  0.007045  0.007077   \n",
       "chronic_disease          0.011852 -0.085586 -0.072127  0.006026  0.006053   \n",
       "source                   0.850275  0.029199 -0.242240  0.059998  0.057961   \n",
       "outcome                 -0.082787  0.469061  0.326516 -0.042742 -0.042736   \n",
       "date_death_or_discharge -0.004845  0.121319  0.068736 -0.001741 -0.001613   \n",
       "admin3                   0.002975  0.001558 -0.001066  0.207687  0.226961   \n",
       "admin2                   0.043896  0.000580 -0.041411  0.911306  0.943712   \n",
       "admin_id                 0.038485  0.000129 -0.025785  0.295175  0.330603   \n",
       "\n",
       "                         longitude  date_onset_symptoms  \\\n",
       "id                        0.040343             0.006327   \n",
       "age                       0.000578             0.082655   \n",
       "sex                      -0.042143             0.077201   \n",
       "city                      0.963200             0.003270   \n",
       "latitude                  1.000000             0.003284   \n",
       "longitude                 1.000000             0.003284   \n",
       "date_onset_symptoms       0.003284             1.000000   \n",
       "date_admission_hospital   0.028294             0.250733   \n",
       "date_confirmation         0.014273            -0.002796   \n",
       "symptoms                 -0.025620            -0.114612   \n",
       "lives_in_wuhan            0.006230             0.000046   \n",
       "additional_information    0.022811             0.151662   \n",
       "chronic_disease_binary    0.007077             0.079351   \n",
       "chronic_disease           0.006053             0.070792   \n",
       "source                    0.057961             0.025445   \n",
       "outcome                  -0.042736            -0.060664   \n",
       "date_death_or_discharge  -0.001613             0.056491   \n",
       "admin3                    0.226961             0.000506   \n",
       "admin2                    0.943712             0.003231   \n",
       "admin_id                  0.330603             0.001948   \n",
       "\n",
       "                         date_admission_hospital  date_confirmation  symptoms  \\\n",
       "id                                      0.054415           0.648288 -0.055153   \n",
       "age                                    -0.097302           0.131672  0.290943   \n",
       "sex                                    -0.261826          -0.156484  0.234248   \n",
       "city                                    0.028252           0.012966 -0.025935   \n",
       "latitude                                0.028294           0.014273 -0.025620   \n",
       "longitude                               0.028294           0.014273 -0.025620   \n",
       "date_onset_symptoms                     0.250733          -0.002796 -0.114612   \n",
       "date_admission_hospital                 1.000000          -0.036565 -0.281187   \n",
       "date_confirmation                      -0.036565           1.000000  0.010236   \n",
       "symptoms                               -0.281187           0.010236  1.000000   \n",
       "lives_in_wuhan                         -0.067688          -0.028626  0.342615   \n",
       "additional_information                  0.526313          -0.002789 -0.079075   \n",
       "chronic_disease_binary                  0.299213          -0.010153  0.074994   \n",
       "chronic_disease                         0.340217           0.018632  0.189467   \n",
       "source                                  0.137109           0.663771 -0.104339   \n",
       "outcome                                -0.556219           0.033622  0.684895   \n",
       "date_death_or_discharge                 0.380887           0.000955  0.389485   \n",
       "admin3                                  0.002056          -0.012897  0.007657   \n",
       "admin2                                  0.027814           0.022403 -0.025107   \n",
       "admin_id                                0.017117           0.034009 -0.016885   \n",
       "\n",
       "                         lives_in_wuhan  additional_information  \\\n",
       "id                            -0.012221                0.042729   \n",
       "age                            0.043413               -0.260170   \n",
       "sex                            0.159828               -0.231728   \n",
       "city                           0.004946                0.022708   \n",
       "latitude                       0.006230                0.022811   \n",
       "longitude                      0.006230                0.022811   \n",
       "date_onset_symptoms            0.000046                0.151662   \n",
       "date_admission_hospital       -0.067688                0.526313   \n",
       "date_confirmation             -0.028626               -0.002789   \n",
       "symptoms                       0.342615               -0.079075   \n",
       "lives_in_wuhan                 1.000000                0.000318   \n",
       "additional_information         0.000318                1.000000   \n",
       "chronic_disease_binary         0.000099                0.433630   \n",
       "chronic_disease                0.000084                0.762359   \n",
       "source                        -0.020815                0.116813   \n",
       "outcome                        0.157809               -0.439921   \n",
       "date_death_or_discharge        0.107485                0.173433   \n",
       "admin3                         0.034794                0.003515   \n",
       "admin2                         0.006402                0.022438   \n",
       "admin_id                      -0.001234                0.013529   \n",
       "\n",
       "                         chronic_disease_binary  chronic_disease    source  \\\n",
       "id                                     0.013346         0.011852  0.850275   \n",
       "age                                    0.044631        -0.085586  0.029199   \n",
       "sex                                   -0.159828        -0.072127 -0.242240   \n",
       "city                                   0.007045         0.006026  0.059998   \n",
       "latitude                               0.007077         0.006053  0.057961   \n",
       "longitude                              0.007077         0.006053  0.057961   \n",
       "date_onset_symptoms                    0.079351         0.070792  0.025445   \n",
       "date_admission_hospital                0.299213         0.340217  0.137109   \n",
       "date_confirmation                     -0.010153         0.018632  0.663771   \n",
       "symptoms                               0.074994         0.189467 -0.104339   \n",
       "lives_in_wuhan                         0.000099         0.000084 -0.020815   \n",
       "additional_information                 0.433630         0.762359  0.116813   \n",
       "chronic_disease_binary                 1.000000        -0.000084  0.040426   \n",
       "chronic_disease                       -0.000084         1.000000  0.051156   \n",
       "source                                 0.040426         0.051156  1.000000   \n",
       "outcome                                0.000625        -0.134982 -0.182230   \n",
       "date_death_or_discharge                0.268860         0.248905  0.015929   \n",
       "admin3                                 0.001091         0.000933  0.004432   \n",
       "admin2                                 0.006961         0.005954  0.059087   \n",
       "admin_id                               0.004197         0.003590  0.035153   \n",
       "\n",
       "                          outcome  date_death_or_discharge    admin3  \\\n",
       "id                      -0.082787                -0.004845  0.002975   \n",
       "age                      0.469061                 0.121319  0.001558   \n",
       "sex                      0.326516                 0.068736 -0.001066   \n",
       "city                    -0.042742                -0.001741  0.207687   \n",
       "latitude                -0.042736                -0.001613  0.226961   \n",
       "longitude               -0.042736                -0.001613  0.226961   \n",
       "date_onset_symptoms     -0.060664                 0.056491  0.000506   \n",
       "date_admission_hospital -0.556219                 0.380887  0.002056   \n",
       "date_confirmation        0.033622                 0.000955 -0.012897   \n",
       "symptoms                 0.684895                 0.389485  0.007657   \n",
       "lives_in_wuhan           0.157809                 0.107485  0.034794   \n",
       "additional_information  -0.439921                 0.173433  0.003515   \n",
       "chronic_disease_binary   0.000625                 0.268860  0.001091   \n",
       "chronic_disease         -0.134982                 0.248905  0.000933   \n",
       "source                  -0.182230                 0.015929  0.004432   \n",
       "outcome                  1.000000                 0.153040 -0.001226   \n",
       "date_death_or_discharge  0.153040                 1.000000  0.003389   \n",
       "admin3                  -0.001226                 0.003389  1.000000   \n",
       "admin2                  -0.041995                -0.001557 -0.076453   \n",
       "admin_id                -0.026127                -0.001487  0.637697   \n",
       "\n",
       "                           admin2  admin_id  \n",
       "id                       0.043896  0.038485  \n",
       "age                      0.000580  0.000129  \n",
       "sex                     -0.041411 -0.025785  \n",
       "city                     0.911306  0.295175  \n",
       "latitude                 0.943712  0.330603  \n",
       "longitude                0.943712  0.330603  \n",
       "date_onset_symptoms      0.003231  0.001948  \n",
       "date_admission_hospital  0.027814  0.017117  \n",
       "date_confirmation        0.022403  0.034009  \n",
       "symptoms                -0.025107 -0.016885  \n",
       "lives_in_wuhan           0.006402 -0.001234  \n",
       "additional_information   0.022438  0.013529  \n",
       "chronic_disease_binary   0.006961  0.004197  \n",
       "chronic_disease          0.005954  0.003590  \n",
       "source                   0.059087  0.035153  \n",
       "outcome                 -0.041995 -0.026127  \n",
       "date_death_or_discharge -0.001557 -0.001487  \n",
       "admin3                  -0.076453  0.637697  \n",
       "admin2                   1.000000  0.060060  \n",
       "admin_id                 0.060060  1.000000  "
      ]
     },
     "execution_count": 28,
     "metadata": {},
     "output_type": "execute_result"
    }
   ],
   "source": [
    "correlation"
   ]
  },
  {
   "cell_type": "code",
   "execution_count": 29,
   "metadata": {},
   "outputs": [
    {
     "data": {
      "text/plain": [
       "id                        -0.082787\n",
       "age                        0.469061\n",
       "sex                        0.326516\n",
       "city                      -0.042742\n",
       "latitude                  -0.042736\n",
       "longitude                 -0.042736\n",
       "date_onset_symptoms       -0.060664\n",
       "date_admission_hospital   -0.556219\n",
       "date_confirmation          0.033622\n",
       "symptoms                   0.684895\n",
       "lives_in_wuhan             0.157809\n",
       "additional_information    -0.439921\n",
       "chronic_disease_binary     0.000625\n",
       "chronic_disease           -0.134982\n",
       "source                    -0.182230\n",
       "outcome                    1.000000\n",
       "date_death_or_discharge    0.153040\n",
       "admin3                    -0.001226\n",
       "admin2                    -0.041995\n",
       "admin_id                  -0.026127\n",
       "Name: outcome, dtype: float64"
      ]
     },
     "execution_count": 29,
     "metadata": {},
     "output_type": "execute_result"
    }
   ],
   "source": [
    "correlation['outcome']\n"
   ]
  },
  {
   "cell_type": "markdown",
   "metadata": {},
   "source": [
    "<p style=\"color: green\">Selon le résultat obtenu, on peut voir clairment la variable \"<strong style=\"color:orange\">symptoms</strong>\", \"<strong style=\"color:orange\">date_admission_hospital</strong>\",\"<strong style=\"color:orange\">age</strong>\",\"<strong style=\"color:orange\">additional_information </strong>\" les plus corrélées avec la cible (\"<strong style=\"color:orange\">outcome</strong>\"). Le résultat n'est pas très surpris, car  évidement la date admission à l'hôpital a une forte lien avec le résultat, et aussi si la personne a une maladie chrononique(qui est décrit dans la colonne \"additional_information\"), elle va avoir une grande possibilité d'être mort après avoir contaminée par Covid-19, et aussi on a vu qu'il y a plus de personnes agées qui est mort à cause du Covid-19 dans les nouvelles donc, on ne peut pas oublier la corrélation entre age et le résultat</p>"
   ]
  },
  {
   "cell_type": "markdown",
   "metadata": {},
   "source": [
    "<h4>2. Visualisez les données en deux dimensions en passant par l’ACP (analyse en composantes principales). Pouvez-vous utiliser une autre méthode ? </h4>"
   ]
  },
  {
   "cell_type": "code",
   "execution_count": 30,
   "metadata": {},
   "outputs": [
    {
     "name": "stdout",
     "output_type": "stream",
     "text": [
      "[[-6137.47108178  -519.86599534]\n",
      " [-6136.4711718   -519.87939803]\n",
      " [-6135.47126181  -519.89280073]\n",
      " ...\n",
      " [ 8706.78204748  8203.00138221]\n",
      " [ 8707.78195747  8202.98797951]\n",
      " [ 8708.78186745  8202.97457682]]\n"
     ]
    },
    {
     "data": {
      "text/plain": [
       "Text(0, 0.5, 'diemnsion 2')"
      ]
     },
     "execution_count": 30,
     "metadata": {},
     "output_type": "execute_result"
    },
    {
     "data": {
      "image/png": "[encoded data removed]",
      "text/plain": [
       "<Figure size 432x288 with 1 Axes>"
      ]
     },
     "metadata": {
      "needs_background": "light"
     },
     "output_type": "display_data"
    }
   ],
   "source": [
    "from sklearn.decomposition import PCA \n",
    "import matplotlib.pyplot as plt\n",
    "\n",
    "label = data['outcome']\n",
    "\n",
    "pca = PCA(n_components=2)\n",
    "x_p = pca.fit(data).transform(data)\n",
    "print(x_p)\n",
    "x = x_p[:,0]\n",
    "y = x_p[:,1]\n",
    "\n",
    "plt.figure()\n",
    "plt.title('apres la methode pca')\n",
    "plt.scatter(x, y,c=label)\n",
    "plt.xlabel('dimension 1')\n",
    "plt.ylabel('diemnsion 2')"
   ]
  },
  {
   "cell_type": "markdown",
   "metadata": {},
   "source": [
    "<p style=\"color:green\">Donc la couleur jaune représente les personnes mort </p>\n",
    "<i style=\"color:blue\">On peut aussi utiliser la méthode NMF</i>"
   ]
  },
  {
   "cell_type": "code",
   "execution_count": 31,
   "metadata": {},
   "outputs": [
    {
     "name": "stdout",
     "output_type": "stream",
     "text": [
      "[[64.54897217  0.        ]\n",
      " [64.5489722   0.        ]\n",
      " [64.54897224  0.        ]\n",
      " ...\n",
      " [65.91970054 11.86415499]\n",
      " [65.91970054 11.86496613]\n",
      " [65.91970054 11.86577727]]\n"
     ]
    },
    {
     "data": {
      "text/plain": [
       "Text(0, 0.5, 'diemnsion 2')"
      ]
     },
     "execution_count": 31,
     "metadata": {},
     "output_type": "execute_result"
    },
    {
     "data": {
      "image/png": "[encoded data removed]",
      "text/plain": [
       "<Figure size 432x288 with 1 Axes>"
      ]
     },
     "metadata": {
      "needs_background": "light"
     },
     "output_type": "display_data"
    }
   ],
   "source": [
    "from sklearn.decomposition import NMF\n",
    "\n",
    "nmf = NMF(n_components=2)\n",
    "x_n = nmf.fit(data).transform(data)\n",
    "print(x_n)\n",
    "x = x_n[:,0]\n",
    "y = x_n[:,1]\n",
    "\n",
    "plt.figure()\n",
    "plt.title('apres la methode NMF')\n",
    "plt.scatter(x, y,c=label)\n",
    "plt.xlabel('dimension 1')\n",
    "plt.ylabel('diemnsion 2')"
   ]
  },
  {
   "cell_type": "markdown",
   "metadata": {},
   "source": [
    "<h3 style=\"color:#8080C0\">\n",
    "Dans la suite, nous utilisons une méthode d'apprentissage automatique afin de prédire la classe : les patients sont soit «décédés» (‘died’) soit «sortis» (‘discharged’) de l'hôpital. Vous pouvez utiliser la classification par K-Nearest Neighbours (K-NN), l’arbre de decision ou le classificateur Bayes.</h3>"
   ]
  },
  {
   "cell_type": "code",
   "execution_count": 42,
   "metadata": {},
   "outputs": [],
   "source": [
    "from sklearn.model_selection import train_test_split\n",
    "\n",
    "X_train_outcome, X_test_outcome, y_train_outcome, y_test_outcome = train_test_split(PCA(n_components=2).fit(data.drop(['outcome'],axis=1)).transform(data.drop(['outcome'],axis=1)), data['outcome'], test_size=0.2, random_state=None)"
   ]
  },
  {
   "cell_type": "code",
   "execution_count": 43,
   "metadata": {},
   "outputs": [
    {
     "data": {
      "text/plain": [
       "2027"
      ]
     },
     "execution_count": 43,
     "metadata": {},
     "output_type": "execute_result"
    }
   ],
   "source": [
    "from sklearn.naive_bayes import GaussianNB\n",
    "clf = GaussianNB().fit(X_train_outcome,  y_train_outcome)\n",
    "len(clf.predict(X_test_outcome))"
   ]
  },
  {
   "cell_type": "markdown",
   "metadata": {},
   "source": [
    "<h4>3. Les résultats obtenus doivent être validés en utilisant certains indices externes comme l’erreur de prédiction (matrice de confusion et précision) ou d'autres comme Rappel, F-Measure, ...</h4>"
   ]
  },
  {
   "cell_type": "code",
   "execution_count": 44,
   "metadata": {},
   "outputs": [
    {
     "data": {
      "text/plain": [
       "array([[1959,   59],\n",
       "       [   1,    8]])"
      ]
     },
     "execution_count": 44,
     "metadata": {},
     "output_type": "execute_result"
    }
   ],
   "source": [
    "from sklearn.metrics import confusion_matrix\n",
    "y_true = y_test_outcome\n",
    "y_pred = clf.predict(X_test_outcome)\n",
    "conf_mat = confusion_matrix(y_true, y_pred)\n",
    "conf_mat"
   ]
  },
  {
   "cell_type": "code",
   "execution_count": 46,
   "metadata": {},
   "outputs": [
    {
     "data": {
      "text/plain": [
       "0.970399605328071"
      ]
     },
     "execution_count": 46,
     "metadata": {},
     "output_type": "execute_result"
    }
   ],
   "source": [
    "#accuracy = (TP + TN) / (TP + FP + TN + FN)\n",
    "accuracy = (conf_mat[0][0] + conf_mat[1][1]) / conf_mat.sum()\n",
    "accuracy"
   ]
  },
  {
   "cell_type": "markdown",
   "metadata": {},
   "source": [
    "<h4>4. Utilisez la régression pour prédire l'âge (age) des personnes en fonction d'autres variables. Vous avez le choix sur ces variables explicatives ? Comment choisissez-vous ces variables ? Calculez la qualité de la prédiction à l'aide de l'erreur MSE (Mean Squared Error).</h4>"
   ]
  },
  {
   "cell_type": "code",
   "execution_count": 47,
   "metadata": {},
   "outputs": [
    {
     "data": {
      "text/plain": [
       "id                         0.001000\n",
       "age                        1.000000\n",
       "sex                        0.018261\n",
       "city                       0.000521\n",
       "latitude                   0.000578\n",
       "longitude                  0.000578\n",
       "date_onset_symptoms        0.082655\n",
       "date_admission_hospital   -0.097302\n",
       "date_confirmation          0.131672\n",
       "symptoms                   0.290943\n",
       "lives_in_wuhan             0.043413\n",
       "additional_information    -0.260170\n",
       "chronic_disease_binary     0.044631\n",
       "chronic_disease           -0.085586\n",
       "source                     0.029199\n",
       "outcome                    0.469061\n",
       "date_death_or_discharge    0.121319\n",
       "admin3                     0.001558\n",
       "admin2                     0.000580\n",
       "admin_id                   0.000129\n",
       "Name: age, dtype: float64"
      ]
     },
     "execution_count": 47,
     "metadata": {},
     "output_type": "execute_result"
    }
   ],
   "source": [
    "correlation['age']"
   ]
  },
  {
   "cell_type": "markdown",
   "metadata": {},
   "source": [
    "<p style=\"color:green\">Voir les coefficients de la corrélation entre \"age\" et les autres variables. Selon le résultat, j'ai décidé de prendre les variables \"outcome\",'symptoms' et 'additional_information' pour faire la prédiction.</p>"
   ]
  },
  {
   "cell_type": "code",
   "execution_count": 50,
   "metadata": {},
   "outputs": [],
   "source": [
    "X_train, X_test, y_train, y_test = train_test_split(data[['outcome','symptoms','additional_information']], data['age'], test_size=0.2, random_state=None)"
   ]
  },
  {
   "cell_type": "code",
   "execution_count": 51,
   "metadata": {},
   "outputs": [
    {
     "data": {
      "text/plain": [
       "array([57.0613103, 57.0613103, 57.0613103, ..., 57.0613103, 57.0613103,\n",
       "       57.0613103])"
      ]
     },
     "execution_count": 51,
     "metadata": {},
     "output_type": "execute_result"
    }
   ],
   "source": [
    "from sklearn.linear_model import LinearRegression\n",
    "\n",
    "lrModel = LinearRegression()\n",
    "lrModel.fit(X_train,y_train)\n",
    "\n",
    "lrModel.predict(X_test)"
   ]
  },
  {
   "cell_type": "code",
   "execution_count": 52,
   "metadata": {},
   "outputs": [
    {
     "data": {
      "text/plain": [
       "3.186625039396274"
      ]
     },
     "execution_count": 52,
     "metadata": {},
     "output_type": "execute_result"
    }
   ],
   "source": [
    "from sklearn.metrics import mean_squared_error\n",
    "y_true = y_test\n",
    "y_pred = lrModel.predict(X_test)\n",
    "mean_squared_error(y_true, y_pred)"
   ]
  },
  {
   "cell_type": "markdown",
   "metadata": {},
   "source": [
    "<h4>\n",
    "5. Appliquer trois méthodes de clustering (K-means, NMF et CAH) sur l'ensemble de données pour segmenter les personnes en différents groupes. Utilisez l'index de Silhouette pour connaître le meilleur nombre de clusters.</h4>"
   ]
  },
  {
   "cell_type": "code",
   "execution_count": 53,
   "metadata": {},
   "outputs": [
    {
     "data": {
      "text/plain": [
       "[<matplotlib.lines.Line2D at 0x7ff85178ca10>]"
      ]
     },
     "execution_count": 53,
     "metadata": {},
     "output_type": "execute_result"
    },
    {
     "data": {
      "image/png": "[encoded data removed]",
      "text/plain": [
       "<Figure size 432x288 with 1 Axes>"
      ]
     },
     "metadata": {
      "needs_background": "light"
     },
     "output_type": "display_data"
    }
   ],
   "source": [
    "from sklearn.cluster import KMeans\n",
    "from sklearn.metrics import silhouette_score\n",
    "\n",
    "silhouette_kmeans = np.zeros(10) \n",
    "for i in range(10):\n",
    "    kmeans_model = KMeans(n_clusters=i+2).fit(x_p)\n",
    "    silhouette_kmeans[i] = silhouette_score(x_p, kmeans_model.labels_)\n",
    "plt.figure()\n",
    "plt.plot(range(1,11),silhouette_kmeans)"
   ]
  },
  {
   "cell_type": "code",
   "execution_count": 129,
   "metadata": {},
   "outputs": [],
   "source": [
    "# pas encore trouver la méthode pour calculer silhouette_score du NMF"
   ]
  },
  {
   "cell_type": "code",
   "execution_count": 54,
   "metadata": {},
   "outputs": [
    {
     "data": {
      "image/png": "[encoded data removed]",
      "text/plain": [
       "<Figure size 3600x720 with 1 Axes>"
      ]
     },
     "metadata": {
      "needs_background": "light"
     },
     "output_type": "display_data"
    }
   ],
   "source": [
    "from scipy.cluster.hierarchy import dendrogram, linkage\n",
    "\n",
    "Z = linkage(x_p, 'ward')\n",
    "plt.figure(figsize=(50, 10))\n",
    "plt.title('Hierarchical Clustering Dendrogram')\n",
    "plt.xlabel('sample index')\n",
    "plt.ylabel('distance')\n",
    "dendrogram(Z, truncate_mode='lastp', p=12, leaf_rotation=90., leaf_font_size=12., show_contracted=True)\n",
    "plt.show()"
   ]
  },
  {
   "cell_type": "code",
   "execution_count": 55,
   "metadata": {},
   "outputs": [
    {
     "data": {
      "text/plain": [
       "[<matplotlib.lines.Line2D at 0x7ff7c91b63d0>]"
      ]
     },
     "execution_count": 55,
     "metadata": {},
     "output_type": "execute_result"
    },
    {
     "data": {
      "image/png": "[encoded data removed]",
      "text/plain": [
       "<Figure size 432x288 with 1 Axes>"
      ]
     },
     "metadata": {
      "needs_background": "light"
     },
     "output_type": "display_data"
    }
   ],
   "source": [
    "from scipy.cluster.hierarchy import fcluster\n",
    "\n",
    "silhouette_cah = np.zeros(10) \n",
    "for i in range(10):\n",
    "    Z = linkage(x_p, 'ward')\n",
    "    silhouette_cah[i] = silhouette_score(x_p, fcluster(Z, i+2, criterion='maxclust'))\n",
    "plt.figure()\n",
    "plt.plot(range(2,12),silhouette_cah)"
   ]
  },
  {
   "cell_type": "markdown",
   "metadata": {},
   "source": [
    "<h4>6. Visualisez les résultats à l'aide de scatter pour analyser visuellement la structure de clustering des trois méthodes.</h4>"
   ]
  },
  {
   "cell_type": "code",
   "execution_count": 138,
   "metadata": {},
   "outputs": [
    {
     "data": {
      "text/plain": [
       "Text(0, 0.5, 'diemnsion 2')"
      ]
     },
     "execution_count": 138,
     "metadata": {},
     "output_type": "execute_result"
    },
    {
     "data": {
      "image/png": "[encoded data removed]",
      "text/plain": [
       "<Figure size 1080x360 with 1 Axes>"
      ]
     },
     "metadata": {
      "needs_background": "light"
     },
     "output_type": "display_data"
    }
   ],
   "source": [
    "x = x_p[:,0]\n",
    "y = x_p[:,1]\n",
    "\n",
    "label = KMeans(n_clusters=3).fit(x_p).labels_\n",
    "\n",
    "plt.figure(figsize=(15,5))\n",
    "plt.title('apres la methode KMeans')\n",
    "plt.scatter(x, y, c=label)\n",
    "plt.xlabel('dimension 1')\n",
    "plt.ylabel('diemnsion 2')"
   ]
  },
  {
   "cell_type": "code",
   "execution_count": 56,
   "metadata": {},
   "outputs": [
    {
     "data": {
      "text/plain": [
       "Text(0, 0.5, 'diemnsion 2')"
      ]
     },
     "execution_count": 56,
     "metadata": {},
     "output_type": "execute_result"
    },
    {
     "data": {
      "image/png": "[encoded data removed]",
      "text/plain": [
       "<Figure size 1080x360 with 1 Axes>"
      ]
     },
     "metadata": {
      "needs_background": "light"
     },
     "output_type": "display_data"
    }
   ],
   "source": [
    "label = fcluster(Z, 4, criterion='maxclust')\n",
    "\n",
    "plt.figure(figsize=(15,5))\n",
    "plt.title('apres la methode CAH')\n",
    "plt.scatter(x, y, c=label)\n",
    "plt.xlabel('dimension 1')\n",
    "plt.ylabel('diemnsion 2')"
   ]
  },
  {
   "cell_type": "markdown",
   "metadata": {},
   "source": [
    "<h4>7. Les données sont déséquilibrées. Vous pouvez les équilibrer en réduisant aléatoirement la classe majoritaire. Supposons que vous extrayez aléatoirement des échantillons équilibrés. Comment les résultats de la prédiction changeront-ils?</h4>"
   ]
  },
  {
   "cell_type": "code",
   "execution_count": 109,
   "metadata": {},
   "outputs": [],
   "source": [
    "x_train1, x_test1, y_train1, y_test1 = train_test_split(data[data['sex'] == 1], data[data['sex'] == 1]['outcome'], test_size=0.1, random_state=None)\n",
    "x_train0, x_test0, y_train0, y_test0 = train_test_split(data[data['sex'] == 0], data[data['sex'] == 0]['outcome'], test_size=0.996, random_state=None)"
   ]
  },
  {
   "cell_type": "code",
   "execution_count": 110,
   "metadata": {},
   "outputs": [
    {
     "data": {
      "text/plain": [
       "35"
      ]
     },
     "execution_count": 110,
     "metadata": {},
     "output_type": "execute_result"
    }
   ],
   "source": [
    "len(x_train1)"
   ]
  },
  {
   "cell_type": "code",
   "execution_count": 111,
   "metadata": {},
   "outputs": [
    {
     "data": {
      "text/plain": [
       "40"
      ]
     },
     "execution_count": 111,
     "metadata": {},
     "output_type": "execute_result"
    }
   ],
   "source": [
    "len(x_train0)"
   ]
  },
  {
   "cell_type": "code",
   "execution_count": 113,
   "metadata": {},
   "outputs": [
    {
     "data": {
      "text/plain": [
       "array([[10031,     1],\n",
       "       [    0,    28]])"
      ]
     },
     "execution_count": 113,
     "metadata": {},
     "output_type": "execute_result"
    }
   ],
   "source": [
    "x_train = pd.concat([x_train0,x_train1],axis = 0)\n",
    "x_test = pd.concat([x_test0,x_test1],axis = 0)\n",
    "y_train = pd.concat([y_train0,y_train1],axis = 0)\n",
    "y_test = pd.concat([y_test0,y_test1],axis = 0)\n",
    "\n",
    "clf = GaussianNB().fit(x_train,  y_train)\n",
    "y_true = y_test\n",
    "y_pred = clf.predict(x_test)\n",
    "conf_mat = confusion_matrix(y_true, y_pred)\n",
    "conf_mat"
   ]
  },
  {
   "cell_type": "code",
   "execution_count": 115,
   "metadata": {},
   "outputs": [
    {
     "data": {
      "text/plain": [
       "0.9999005964214712"
      ]
     },
     "execution_count": 115,
     "metadata": {},
     "output_type": "execute_result"
    }
   ],
   "source": [
    "#accuracy = (TP + TN) / (TP + FP + TN + FN)\n",
    "accuracy = (conf_mat[0][0] + conf_mat[1][1]) / conf_mat.sum()\n",
    "accuracy"
   ]
  },
  {
   "cell_type": "code",
   "execution_count": 118,
   "metadata": {},
   "outputs": [
    {
     "data": {
      "text/plain": [
       "89.0"
      ]
     },
     "execution_count": 118,
     "metadata": {},
     "output_type": "execute_result"
    }
   ],
   "source": [
    "max(data['age'])"
   ]
  },
  {
   "cell_type": "code",
   "execution_count": 119,
   "metadata": {},
   "outputs": [
    {
     "data": {
      "text/plain": [
       "30.0"
      ]
     },
     "execution_count": 119,
     "metadata": {},
     "output_type": "execute_result"
    }
   ],
   "source": [
    "min(data['age'])"
   ]
  },
  {
   "cell_type": "code",
   "execution_count": 127,
   "metadata": {},
   "outputs": [
    {
     "data": {
      "text/plain": [
       "34"
      ]
     },
     "execution_count": 127,
     "metadata": {},
     "output_type": "execute_result"
    }
   ],
   "source": [
    "len(data[(data['age'] >= 30) & (data['age'] < 45)])"
   ]
  },
  {
   "cell_type": "code",
   "execution_count": 128,
   "metadata": {},
   "outputs": [
    {
     "data": {
      "text/plain": [
       "10031"
      ]
     },
     "execution_count": 128,
     "metadata": {},
     "output_type": "execute_result"
    }
   ],
   "source": [
    "len(data[(data['age'] >= 45) & (data['age'] < 60)])"
   ]
  },
  {
   "cell_type": "code",
   "execution_count": 129,
   "metadata": {},
   "outputs": [
    {
     "data": {
      "text/plain": [
       "39"
      ]
     },
     "execution_count": 129,
     "metadata": {},
     "output_type": "execute_result"
    }
   ],
   "source": [
    "len(data[(data['age'] >= 60) & (data['age'] < 75)])"
   ]
  },
  {
   "cell_type": "code",
   "execution_count": 130,
   "metadata": {},
   "outputs": [
    {
     "data": {
      "text/plain": [
       "31"
      ]
     },
     "execution_count": 130,
     "metadata": {},
     "output_type": "execute_result"
    }
   ],
   "source": [
    "len(data[(data['age'] >= 75) & (data['age'] < 90)])"
   ]
  },
  {
   "cell_type": "code",
   "execution_count": 131,
   "metadata": {},
   "outputs": [],
   "source": [
    "x_train1, x_test1, y_train1, y_test1 = train_test_split(data[(data['age'] >= 30) & (data['age'] < 45)], data[(data['age'] >= 30) & (data['age'] < 45)]['outcome'], test_size=0.1, random_state=None)\n",
    "x_train2, x_test2, y_train2, y_test2 = train_test_split(data[(data['age'] >= 45) & (data['age'] < 60)], data[(data['age'] >= 45) & (data['age'] < 60)]['outcome'], test_size=0.996, random_state=None)\n",
    "x_train3, x_test3, y_train3, y_test3 = train_test_split(data[(data['age'] >= 60) & (data['age'] < 75)], data[(data['age'] >= 60) & (data['age'] < 75)]['outcome'], test_size=0.1, random_state=None)\n",
    "x_train4, x_test4, y_train4, y_test4 = train_test_split(data[(data['age'] >= 75) & (data['age'] < 90)], data[(data['age'] >= 75) & (data['age'] < 90)]['outcome'], test_size=0.1, random_state=None)\n"
   ]
  },
  {
   "cell_type": "code",
   "execution_count": 132,
   "metadata": {},
   "outputs": [
    {
     "data": {
      "text/plain": [
       "30"
      ]
     },
     "execution_count": 132,
     "metadata": {},
     "output_type": "execute_result"
    }
   ],
   "source": [
    "len(x_train1)"
   ]
  },
  {
   "cell_type": "code",
   "execution_count": 133,
   "metadata": {},
   "outputs": [
    {
     "data": {
      "text/plain": [
       "40"
      ]
     },
     "execution_count": 133,
     "metadata": {},
     "output_type": "execute_result"
    }
   ],
   "source": [
    "len(x_train2)"
   ]
  },
  {
   "cell_type": "code",
   "execution_count": 134,
   "metadata": {},
   "outputs": [
    {
     "data": {
      "text/plain": [
       "35"
      ]
     },
     "execution_count": 134,
     "metadata": {},
     "output_type": "execute_result"
    }
   ],
   "source": [
    "len(x_train3)"
   ]
  },
  {
   "cell_type": "code",
   "execution_count": 135,
   "metadata": {},
   "outputs": [
    {
     "data": {
      "text/plain": [
       "27"
      ]
     },
     "execution_count": 135,
     "metadata": {},
     "output_type": "execute_result"
    }
   ],
   "source": [
    "len(x_train4)"
   ]
  },
  {
   "cell_type": "code",
   "execution_count": 136,
   "metadata": {},
   "outputs": [
    {
     "data": {
      "text/plain": [
       "array([[9990,    1],\n",
       "       [   0,   12]])"
      ]
     },
     "execution_count": 136,
     "metadata": {},
     "output_type": "execute_result"
    }
   ],
   "source": [
    "x_train = pd.concat([x_train1,x_train2,x_train3,x_train4],axis = 0)\n",
    "x_test = pd.concat([x_test1,x_test2,x_test3,x_test4],axis = 0)\n",
    "y_train = pd.concat([y_train1,y_train2,y_train3,y_train4],axis = 0)\n",
    "y_test = pd.concat([y_test1,y_test2,y_test3,y_test4],axis = 0)\n",
    "\n",
    "clf = GaussianNB().fit(x_train,  y_train)\n",
    "y_true = y_test\n",
    "y_pred = clf.predict(x_test)\n",
    "conf_mat = confusion_matrix(y_true, y_pred)\n",
    "# TP FN\n",
    "# FP TN\n",
    "conf_mat"
   ]
  },
  {
   "cell_type": "code",
   "execution_count": 138,
   "metadata": {},
   "outputs": [
    {
     "data": {
      "text/plain": [
       "0.9999000299910027"
      ]
     },
     "execution_count": 138,
     "metadata": {},
     "output_type": "execute_result"
    }
   ],
   "source": [
    "#accuracy = (TP + TN) / (TP + FP + TN + FN)\n",
    "accuracy = (conf_mat[0][0] + conf_mat[1][1]) / conf_mat.sum()\n",
    "accuracy"
   ]
  },
  {
   "cell_type": "code",
   "execution_count": 139,
   "metadata": {},
   "outputs": [
    {
     "data": {
      "text/plain": [
       "Text(0, 0.5, 'diemnsion 2')"
      ]
     },
     "execution_count": 139,
     "metadata": {},
     "output_type": "execute_result"
    },
    {
     "data": {
      "image/png": "[encoded data removed]",
      "text/plain": [
       "<Figure size 432x288 with 1 Axes>"
      ]
     },
     "metadata": {
      "needs_background": "light"
     },
     "output_type": "display_data"
    }
   ],
   "source": [
    "label = x_train['outcome']\n",
    "\n",
    "pca = PCA(n_components=2)\n",
    "x_p = pca.fit(x_train).transform(x_train)\n",
    "x = x_p[:,0]\n",
    "y = x_p[:,1]\n",
    "\n",
    "plt.figure()\n",
    "plt.title('apres la methode pca')\n",
    "plt.scatter(x, y,c=label)\n",
    "plt.xlabel('dimension 1')\n",
    "plt.ylabel('diemnsion 2')"
   ]
  },
  {
   "cell_type": "code",
   "execution_count": 140,
   "metadata": {},
   "outputs": [
    {
     "data": {
      "text/plain": [
       "Text(0, 0.5, 'diemnsion 2')"
      ]
     },
     "execution_count": 140,
     "metadata": {},
     "output_type": "execute_result"
    },
    {
     "data": {
      "image/png": "[encoded data removed]",
      "text/plain": [
       "<Figure size 1080x360 with 1 Axes>"
      ]
     },
     "metadata": {
      "needs_background": "light"
     },
     "output_type": "display_data"
    }
   ],
   "source": [
    "label = KMeans(n_clusters=3).fit(x_p).labels_\n",
    "\n",
    "plt.figure(figsize=(15,5))\n",
    "plt.title('apres la methode KMeans')\n",
    "plt.scatter(x, y, c=label)\n",
    "plt.xlabel('dimension 1')\n",
    "plt.ylabel('diemnsion 2')"
   ]
  },
  {
   "cell_type": "markdown",
   "metadata": {},
   "source": [
    "<p style=\"color:green\">Selon les deux résultat obtenu, on a remarqué la qualité de la prédiction augmente </p>"
   ]
  },
  {
   "cell_type": "markdown",
   "metadata": {},
   "source": [
    "<h4>8. Comment pouvez-vous mieux gérer ce déséquilibre entre les classes ?</h4>\n",
    "<p style=\"color:green\">On a remarqué qu'il y a pas mal des valeurs manquantes dans cette base de données, et on les remplacer par la moyenne ou par la mode, cela va amener des désquilibres entre les classes, et on essaie de trouver les variables qui ont forte lien avec la variable concerné pour la prédiction, en voyant le coefficient de la corrélation de chaque variable, et essaie de prendre le même nombre des valeurs aléatoirement de chaque type de valeur de la variable. Par exemple, Voir en dessous, on sais qu'il y a des déséquilibrement entre l'homme et femme dans la base de données d'entraînement, donc on essaie de prendre aléatoirement le nombre de valeurs quasiment le même entre l'homme et femme, ce qui aussi avoir des risque de d'autre part, et ne peut pas tout simplement dire que le modèle est le meuilleur, car on a finalement 75 données d'entraînement, pas 10135 de la base de données originale. D'ailleurs on peut aussi considérer la variable \"age\" qui ont aussi un très important lien avec le résultat. </p>"
   ]
  },
  {
   "cell_type": "markdown",
   "metadata": {},
   "source": [
    "<h4>9. Pour trouver les meilleurs paramètres pour les modèles, l'algorithme Greedy Search peut être utilisé, disponible dans la bibliothèque scikit-learn. Expliquez l'algorithme et utilisez-le pour les modèles d'apprentissage choisis afin de trouver les meilleurs paramètres.</h4>"
   ]
  },
  {
   "cell_type": "markdown",
   "metadata": {},
   "source": [
    "<h4>10. Présentez et expliquez le formalisme algorithmique et mathématique de la méthode qui donne les meilleurs résultats. Expliquez tous les paramètres de la méthode utilisée et leur impact sur les résultats.</h4>"
   ]
  }
 ],
 "metadata": {
  "kernelspec": {
   "display_name": "Python 3",
   "language": "python",
   "name": "python3"
  },
  "language_info": {
   "codemirror_mode": {
    "name": "ipython",
    "version": 3
   },
   "file_extension": ".py",
   "mimetype": "text/x-python",
   "name": "python",
   "nbconvert_exporter": "python",
   "pygments_lexer": "ipython3",
   "version": "3.7.6"
  }
 },
 "nbformat": 4,
 "nbformat_minor": 4
}
